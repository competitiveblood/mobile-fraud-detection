{
 "cells": [
  {
   "cell_type": "markdown",
   "id": "d36b04b3-8ea1-49a1-9d85-10ee87b43a96",
   "metadata": {},
   "source": [
    "# Mobile Payment Fraud Detection"
   ]
  },
  {
   "cell_type": "code",
   "id": "2e29dc58-04ae-4bef-aa72-6dfdeb621f1b",
   "metadata": {
    "ExecuteTime": {
     "end_time": "2024-11-13T18:53:33.488732Z",
     "start_time": "2024-11-13T18:53:33.482265Z"
    }
   },
   "source": [
    "import numpy as np\n",
    "import pandas as pd\n",
    "\n",
    "import pickle \n",
    "\n",
    "import matplotlib.pyplot as plt\n",
    "import seaborn as sns\n",
    "\n",
    "from sklearn.preprocessing import StandardScaler\n",
    "from sklearn.model_selection import train_test_split\n",
    "\n",
    "import tensorflow as tf\n",
    "\n",
    "from sklearn.metrics import confusion_matrix, classification_report"
   ],
   "outputs": [],
   "execution_count": 35
  },
  {
   "cell_type": "code",
   "id": "0d897894-6cee-4a71-b504-a4d833a9f8c4",
   "metadata": {
    "ExecuteTime": {
     "end_time": "2024-11-13T18:53:34.965548Z",
     "start_time": "2024-11-13T18:53:34.871912Z"
    }
   },
   "source": [
    "import pandas as pd\n",
    "\n",
    "data = pd.read_csv('/Users/shivangisingh/Desktop/mobile-fraud-detection/.venv/dataset/PS_20174392719_1491204439457_log.csv', nrows=50000)"
   ],
   "outputs": [],
   "execution_count": 36
  },
  {
   "cell_type": "code",
   "id": "9261a621-13c7-4a54-b03d-01ab81123b96",
   "metadata": {
    "ExecuteTime": {
     "end_time": "2024-11-13T18:53:41.224517Z",
     "start_time": "2024-11-13T18:53:41.176585Z"
    }
   },
   "source": [
    "data.head()"
   ],
   "outputs": [
    {
     "data": {
      "text/plain": [
       "   step      type    amount     nameOrig  oldbalanceOrg  newbalanceOrig  \\\n",
       "0     1   PAYMENT   9839.64  C1231006815       170136.0       160296.36   \n",
       "1     1   PAYMENT   1864.28  C1666544295        21249.0        19384.72   \n",
       "2     1  TRANSFER    181.00  C1305486145          181.0            0.00   \n",
       "3     1  CASH_OUT    181.00   C840083671          181.0            0.00   \n",
       "4     1   PAYMENT  11668.14  C2048537720        41554.0        29885.86   \n",
       "\n",
       "      nameDest  oldbalanceDest  newbalanceDest  isFraud  isFlaggedFraud  \n",
       "0  M1979787155             0.0             0.0        0               0  \n",
       "1  M2044282225             0.0             0.0        0               0  \n",
       "2   C553264065             0.0             0.0        1               0  \n",
       "3    C38997010         21182.0             0.0        1               0  \n",
       "4  M1230701703             0.0             0.0        0               0  "
      ],
      "text/html": [
       "<div>\n",
       "<style scoped>\n",
       "    .dataframe tbody tr th:only-of-type {\n",
       "        vertical-align: middle;\n",
       "    }\n",
       "\n",
       "    .dataframe tbody tr th {\n",
       "        vertical-align: top;\n",
       "    }\n",
       "\n",
       "    .dataframe thead th {\n",
       "        text-align: right;\n",
       "    }\n",
       "</style>\n",
       "<table border=\"1\" class=\"dataframe\">\n",
       "  <thead>\n",
       "    <tr style=\"text-align: right;\">\n",
       "      <th></th>\n",
       "      <th>step</th>\n",
       "      <th>type</th>\n",
       "      <th>amount</th>\n",
       "      <th>nameOrig</th>\n",
       "      <th>oldbalanceOrg</th>\n",
       "      <th>newbalanceOrig</th>\n",
       "      <th>nameDest</th>\n",
       "      <th>oldbalanceDest</th>\n",
       "      <th>newbalanceDest</th>\n",
       "      <th>isFraud</th>\n",
       "      <th>isFlaggedFraud</th>\n",
       "    </tr>\n",
       "  </thead>\n",
       "  <tbody>\n",
       "    <tr>\n",
       "      <th>0</th>\n",
       "      <td>1</td>\n",
       "      <td>PAYMENT</td>\n",
       "      <td>9839.64</td>\n",
       "      <td>C1231006815</td>\n",
       "      <td>170136.0</td>\n",
       "      <td>160296.36</td>\n",
       "      <td>M1979787155</td>\n",
       "      <td>0.0</td>\n",
       "      <td>0.0</td>\n",
       "      <td>0</td>\n",
       "      <td>0</td>\n",
       "    </tr>\n",
       "    <tr>\n",
       "      <th>1</th>\n",
       "      <td>1</td>\n",
       "      <td>PAYMENT</td>\n",
       "      <td>1864.28</td>\n",
       "      <td>C1666544295</td>\n",
       "      <td>21249.0</td>\n",
       "      <td>19384.72</td>\n",
       "      <td>M2044282225</td>\n",
       "      <td>0.0</td>\n",
       "      <td>0.0</td>\n",
       "      <td>0</td>\n",
       "      <td>0</td>\n",
       "    </tr>\n",
       "    <tr>\n",
       "      <th>2</th>\n",
       "      <td>1</td>\n",
       "      <td>TRANSFER</td>\n",
       "      <td>181.00</td>\n",
       "      <td>C1305486145</td>\n",
       "      <td>181.0</td>\n",
       "      <td>0.00</td>\n",
       "      <td>C553264065</td>\n",
       "      <td>0.0</td>\n",
       "      <td>0.0</td>\n",
       "      <td>1</td>\n",
       "      <td>0</td>\n",
       "    </tr>\n",
       "    <tr>\n",
       "      <th>3</th>\n",
       "      <td>1</td>\n",
       "      <td>CASH_OUT</td>\n",
       "      <td>181.00</td>\n",
       "      <td>C840083671</td>\n",
       "      <td>181.0</td>\n",
       "      <td>0.00</td>\n",
       "      <td>C38997010</td>\n",
       "      <td>21182.0</td>\n",
       "      <td>0.0</td>\n",
       "      <td>1</td>\n",
       "      <td>0</td>\n",
       "    </tr>\n",
       "    <tr>\n",
       "      <th>4</th>\n",
       "      <td>1</td>\n",
       "      <td>PAYMENT</td>\n",
       "      <td>11668.14</td>\n",
       "      <td>C2048537720</td>\n",
       "      <td>41554.0</td>\n",
       "      <td>29885.86</td>\n",
       "      <td>M1230701703</td>\n",
       "      <td>0.0</td>\n",
       "      <td>0.0</td>\n",
       "      <td>0</td>\n",
       "      <td>0</td>\n",
       "    </tr>\n",
       "  </tbody>\n",
       "</table>\n",
       "</div>"
      ]
     },
     "execution_count": 37,
     "metadata": {},
     "output_type": "execute_result"
    }
   ],
   "execution_count": 37
  },
  {
   "cell_type": "code",
   "id": "5690bd36-97db-4ab1-a072-081aec538fd8",
   "metadata": {
    "ExecuteTime": {
     "end_time": "2024-11-13T18:53:43.306791Z",
     "start_time": "2024-11-13T18:53:43.283224Z"
    }
   },
   "source": [
    "data.info(verbose=True, show_counts=True)"
   ],
   "outputs": [
    {
     "name": "stdout",
     "output_type": "stream",
     "text": [
      "<class 'pandas.core.frame.DataFrame'>\n",
      "RangeIndex: 50000 entries, 0 to 49999\n",
      "Data columns (total 11 columns):\n",
      " #   Column          Non-Null Count  Dtype  \n",
      "---  ------          --------------  -----  \n",
      " 0   step            50000 non-null  int64  \n",
      " 1   type            50000 non-null  object \n",
      " 2   amount          50000 non-null  float64\n",
      " 3   nameOrig        50000 non-null  object \n",
      " 4   oldbalanceOrg   50000 non-null  float64\n",
      " 5   newbalanceOrig  50000 non-null  float64\n",
      " 6   nameDest        50000 non-null  object \n",
      " 7   oldbalanceDest  50000 non-null  float64\n",
      " 8   newbalanceDest  50000 non-null  float64\n",
      " 9   isFraud         50000 non-null  int64  \n",
      " 10  isFlaggedFraud  50000 non-null  int64  \n",
      "dtypes: float64(5), int64(3), object(3)\n",
      "memory usage: 4.2+ MB\n"
     ]
    }
   ],
   "execution_count": 38
  },
  {
   "cell_type": "code",
   "id": "2e654343-7b22-4320-8b5f-7c599cc9778d",
   "metadata": {
    "ExecuteTime": {
     "end_time": "2024-11-13T18:53:44.387572Z",
     "start_time": "2024-11-13T18:53:44.382380Z"
    }
   },
   "source": [
    "data['type'].unique()"
   ],
   "outputs": [
    {
     "data": {
      "text/plain": [
       "array(['PAYMENT', 'TRANSFER', 'CASH_OUT', 'DEBIT', 'CASH_IN'],\n",
       "      dtype=object)"
      ]
     },
     "execution_count": 39,
     "metadata": {},
     "output_type": "execute_result"
    }
   ],
   "execution_count": 39
  },
  {
   "cell_type": "code",
   "id": "dc1ad3e2-387b-4c7f-9438-eea82ea50697",
   "metadata": {
    "ExecuteTime": {
     "end_time": "2024-11-13T18:53:46.602513Z",
     "start_time": "2024-11-13T18:53:46.591881Z"
    }
   },
   "source": [
    "data['isFraud'].value_counts()"
   ],
   "outputs": [
    {
     "data": {
      "text/plain": [
       "isFraud\n",
       "0    49900\n",
       "1      100\n",
       "Name: count, dtype: int64"
      ]
     },
     "execution_count": 40,
     "metadata": {},
     "output_type": "execute_result"
    }
   ],
   "execution_count": 40
  },
  {
   "cell_type": "markdown",
   "id": "ef6e51dc-9f79-4c3c-8e48-465ff4486de7",
   "metadata": {},
   "source": [
    "# Preprocessing    "
   ]
  },
  {
   "cell_type": "code",
   "id": "a622be73-70d5-4ce5-a997-7e23ab5f1655",
   "metadata": {
    "ExecuteTime": {
     "end_time": "2024-11-13T18:53:53.203728Z",
     "start_time": "2024-11-13T18:53:53.190157Z"
    }
   },
   "source": [
    "#One hot encoding\n",
    "pd.get_dummies(data['type'], prefix='type').astype(int)"
   ],
   "outputs": [
    {
     "data": {
      "text/plain": [
       "       type_CASH_IN  type_CASH_OUT  type_DEBIT  type_PAYMENT  type_TRANSFER\n",
       "0                 0              0           0             1              0\n",
       "1                 0              0           0             1              0\n",
       "2                 0              0           0             0              1\n",
       "3                 0              1           0             0              0\n",
       "4                 0              0           0             1              0\n",
       "...             ...            ...         ...           ...            ...\n",
       "49995             0              0           0             1              0\n",
       "49996             0              0           0             1              0\n",
       "49997             0              0           0             1              0\n",
       "49998             0              0           0             1              0\n",
       "49999             0              0           0             1              0\n",
       "\n",
       "[50000 rows x 5 columns]"
      ],
      "text/html": [
       "<div>\n",
       "<style scoped>\n",
       "    .dataframe tbody tr th:only-of-type {\n",
       "        vertical-align: middle;\n",
       "    }\n",
       "\n",
       "    .dataframe tbody tr th {\n",
       "        vertical-align: top;\n",
       "    }\n",
       "\n",
       "    .dataframe thead th {\n",
       "        text-align: right;\n",
       "    }\n",
       "</style>\n",
       "<table border=\"1\" class=\"dataframe\">\n",
       "  <thead>\n",
       "    <tr style=\"text-align: right;\">\n",
       "      <th></th>\n",
       "      <th>type_CASH_IN</th>\n",
       "      <th>type_CASH_OUT</th>\n",
       "      <th>type_DEBIT</th>\n",
       "      <th>type_PAYMENT</th>\n",
       "      <th>type_TRANSFER</th>\n",
       "    </tr>\n",
       "  </thead>\n",
       "  <tbody>\n",
       "    <tr>\n",
       "      <th>0</th>\n",
       "      <td>0</td>\n",
       "      <td>0</td>\n",
       "      <td>0</td>\n",
       "      <td>1</td>\n",
       "      <td>0</td>\n",
       "    </tr>\n",
       "    <tr>\n",
       "      <th>1</th>\n",
       "      <td>0</td>\n",
       "      <td>0</td>\n",
       "      <td>0</td>\n",
       "      <td>1</td>\n",
       "      <td>0</td>\n",
       "    </tr>\n",
       "    <tr>\n",
       "      <th>2</th>\n",
       "      <td>0</td>\n",
       "      <td>0</td>\n",
       "      <td>0</td>\n",
       "      <td>0</td>\n",
       "      <td>1</td>\n",
       "    </tr>\n",
       "    <tr>\n",
       "      <th>3</th>\n",
       "      <td>0</td>\n",
       "      <td>1</td>\n",
       "      <td>0</td>\n",
       "      <td>0</td>\n",
       "      <td>0</td>\n",
       "    </tr>\n",
       "    <tr>\n",
       "      <th>4</th>\n",
       "      <td>0</td>\n",
       "      <td>0</td>\n",
       "      <td>0</td>\n",
       "      <td>1</td>\n",
       "      <td>0</td>\n",
       "    </tr>\n",
       "    <tr>\n",
       "      <th>...</th>\n",
       "      <td>...</td>\n",
       "      <td>...</td>\n",
       "      <td>...</td>\n",
       "      <td>...</td>\n",
       "      <td>...</td>\n",
       "    </tr>\n",
       "    <tr>\n",
       "      <th>49995</th>\n",
       "      <td>0</td>\n",
       "      <td>0</td>\n",
       "      <td>0</td>\n",
       "      <td>1</td>\n",
       "      <td>0</td>\n",
       "    </tr>\n",
       "    <tr>\n",
       "      <th>49996</th>\n",
       "      <td>0</td>\n",
       "      <td>0</td>\n",
       "      <td>0</td>\n",
       "      <td>1</td>\n",
       "      <td>0</td>\n",
       "    </tr>\n",
       "    <tr>\n",
       "      <th>49997</th>\n",
       "      <td>0</td>\n",
       "      <td>0</td>\n",
       "      <td>0</td>\n",
       "      <td>1</td>\n",
       "      <td>0</td>\n",
       "    </tr>\n",
       "    <tr>\n",
       "      <th>49998</th>\n",
       "      <td>0</td>\n",
       "      <td>0</td>\n",
       "      <td>0</td>\n",
       "      <td>1</td>\n",
       "      <td>0</td>\n",
       "    </tr>\n",
       "    <tr>\n",
       "      <th>49999</th>\n",
       "      <td>0</td>\n",
       "      <td>0</td>\n",
       "      <td>0</td>\n",
       "      <td>1</td>\n",
       "      <td>0</td>\n",
       "    </tr>\n",
       "  </tbody>\n",
       "</table>\n",
       "<p>50000 rows × 5 columns</p>\n",
       "</div>"
      ]
     },
     "execution_count": 41,
     "metadata": {},
     "output_type": "execute_result"
    }
   ],
   "execution_count": 41
  },
  {
   "cell_type": "code",
   "id": "0a671210-6bbb-4997-9d10-b198e46ed0d8",
   "metadata": {
    "ExecuteTime": {
     "end_time": "2024-11-13T18:54:03.984867Z",
     "start_time": "2024-11-13T18:54:03.967602Z"
    }
   },
   "source": [
    "data"
   ],
   "outputs": [
    {
     "data": {
      "text/plain": [
       "       step      type    amount     nameOrig  oldbalanceOrg  newbalanceOrig  \\\n",
       "0         1   PAYMENT   9839.64  C1231006815      170136.00       160296.36   \n",
       "1         1   PAYMENT   1864.28  C1666544295       21249.00        19384.72   \n",
       "2         1  TRANSFER    181.00  C1305486145         181.00            0.00   \n",
       "3         1  CASH_OUT    181.00   C840083671         181.00            0.00   \n",
       "4         1   PAYMENT  11668.14  C2048537720       41554.00        29885.86   \n",
       "...     ...       ...       ...          ...            ...             ...   \n",
       "49995     9   PAYMENT   1322.91  C1402545110     1208457.61      1207134.71   \n",
       "49996     9   PAYMENT   6900.48   C517372485     1207134.71      1200234.22   \n",
       "49997     9   PAYMENT  17399.12  C1948160352     1200234.22      1182835.10   \n",
       "49998     9   PAYMENT   5485.20  C1586381033     1182835.10      1177349.90   \n",
       "49999     9   PAYMENT    629.44   C741191323     1177349.90      1176720.46   \n",
       "\n",
       "          nameDest  oldbalanceDest  newbalanceDest  isFraud  isFlaggedFraud  \n",
       "0      M1979787155             0.0             0.0        0               0  \n",
       "1      M2044282225             0.0             0.0        0               0  \n",
       "2       C553264065             0.0             0.0        1               0  \n",
       "3        C38997010         21182.0             0.0        1               0  \n",
       "4      M1230701703             0.0             0.0        0               0  \n",
       "...            ...             ...             ...      ...             ...  \n",
       "49995   M578074960             0.0             0.0        0               0  \n",
       "49996  M1854114037             0.0             0.0        0               0  \n",
       "49997  M1940330634             0.0             0.0        0               0  \n",
       "49998   M741912557             0.0             0.0        0               0  \n",
       "49999  M1728418012             0.0             0.0        0               0  \n",
       "\n",
       "[50000 rows x 11 columns]"
      ],
      "text/html": [
       "<div>\n",
       "<style scoped>\n",
       "    .dataframe tbody tr th:only-of-type {\n",
       "        vertical-align: middle;\n",
       "    }\n",
       "\n",
       "    .dataframe tbody tr th {\n",
       "        vertical-align: top;\n",
       "    }\n",
       "\n",
       "    .dataframe thead th {\n",
       "        text-align: right;\n",
       "    }\n",
       "</style>\n",
       "<table border=\"1\" class=\"dataframe\">\n",
       "  <thead>\n",
       "    <tr style=\"text-align: right;\">\n",
       "      <th></th>\n",
       "      <th>step</th>\n",
       "      <th>type</th>\n",
       "      <th>amount</th>\n",
       "      <th>nameOrig</th>\n",
       "      <th>oldbalanceOrg</th>\n",
       "      <th>newbalanceOrig</th>\n",
       "      <th>nameDest</th>\n",
       "      <th>oldbalanceDest</th>\n",
       "      <th>newbalanceDest</th>\n",
       "      <th>isFraud</th>\n",
       "      <th>isFlaggedFraud</th>\n",
       "    </tr>\n",
       "  </thead>\n",
       "  <tbody>\n",
       "    <tr>\n",
       "      <th>0</th>\n",
       "      <td>1</td>\n",
       "      <td>PAYMENT</td>\n",
       "      <td>9839.64</td>\n",
       "      <td>C1231006815</td>\n",
       "      <td>170136.00</td>\n",
       "      <td>160296.36</td>\n",
       "      <td>M1979787155</td>\n",
       "      <td>0.0</td>\n",
       "      <td>0.0</td>\n",
       "      <td>0</td>\n",
       "      <td>0</td>\n",
       "    </tr>\n",
       "    <tr>\n",
       "      <th>1</th>\n",
       "      <td>1</td>\n",
       "      <td>PAYMENT</td>\n",
       "      <td>1864.28</td>\n",
       "      <td>C1666544295</td>\n",
       "      <td>21249.00</td>\n",
       "      <td>19384.72</td>\n",
       "      <td>M2044282225</td>\n",
       "      <td>0.0</td>\n",
       "      <td>0.0</td>\n",
       "      <td>0</td>\n",
       "      <td>0</td>\n",
       "    </tr>\n",
       "    <tr>\n",
       "      <th>2</th>\n",
       "      <td>1</td>\n",
       "      <td>TRANSFER</td>\n",
       "      <td>181.00</td>\n",
       "      <td>C1305486145</td>\n",
       "      <td>181.00</td>\n",
       "      <td>0.00</td>\n",
       "      <td>C553264065</td>\n",
       "      <td>0.0</td>\n",
       "      <td>0.0</td>\n",
       "      <td>1</td>\n",
       "      <td>0</td>\n",
       "    </tr>\n",
       "    <tr>\n",
       "      <th>3</th>\n",
       "      <td>1</td>\n",
       "      <td>CASH_OUT</td>\n",
       "      <td>181.00</td>\n",
       "      <td>C840083671</td>\n",
       "      <td>181.00</td>\n",
       "      <td>0.00</td>\n",
       "      <td>C38997010</td>\n",
       "      <td>21182.0</td>\n",
       "      <td>0.0</td>\n",
       "      <td>1</td>\n",
       "      <td>0</td>\n",
       "    </tr>\n",
       "    <tr>\n",
       "      <th>4</th>\n",
       "      <td>1</td>\n",
       "      <td>PAYMENT</td>\n",
       "      <td>11668.14</td>\n",
       "      <td>C2048537720</td>\n",
       "      <td>41554.00</td>\n",
       "      <td>29885.86</td>\n",
       "      <td>M1230701703</td>\n",
       "      <td>0.0</td>\n",
       "      <td>0.0</td>\n",
       "      <td>0</td>\n",
       "      <td>0</td>\n",
       "    </tr>\n",
       "    <tr>\n",
       "      <th>...</th>\n",
       "      <td>...</td>\n",
       "      <td>...</td>\n",
       "      <td>...</td>\n",
       "      <td>...</td>\n",
       "      <td>...</td>\n",
       "      <td>...</td>\n",
       "      <td>...</td>\n",
       "      <td>...</td>\n",
       "      <td>...</td>\n",
       "      <td>...</td>\n",
       "      <td>...</td>\n",
       "    </tr>\n",
       "    <tr>\n",
       "      <th>49995</th>\n",
       "      <td>9</td>\n",
       "      <td>PAYMENT</td>\n",
       "      <td>1322.91</td>\n",
       "      <td>C1402545110</td>\n",
       "      <td>1208457.61</td>\n",
       "      <td>1207134.71</td>\n",
       "      <td>M578074960</td>\n",
       "      <td>0.0</td>\n",
       "      <td>0.0</td>\n",
       "      <td>0</td>\n",
       "      <td>0</td>\n",
       "    </tr>\n",
       "    <tr>\n",
       "      <th>49996</th>\n",
       "      <td>9</td>\n",
       "      <td>PAYMENT</td>\n",
       "      <td>6900.48</td>\n",
       "      <td>C517372485</td>\n",
       "      <td>1207134.71</td>\n",
       "      <td>1200234.22</td>\n",
       "      <td>M1854114037</td>\n",
       "      <td>0.0</td>\n",
       "      <td>0.0</td>\n",
       "      <td>0</td>\n",
       "      <td>0</td>\n",
       "    </tr>\n",
       "    <tr>\n",
       "      <th>49997</th>\n",
       "      <td>9</td>\n",
       "      <td>PAYMENT</td>\n",
       "      <td>17399.12</td>\n",
       "      <td>C1948160352</td>\n",
       "      <td>1200234.22</td>\n",
       "      <td>1182835.10</td>\n",
       "      <td>M1940330634</td>\n",
       "      <td>0.0</td>\n",
       "      <td>0.0</td>\n",
       "      <td>0</td>\n",
       "      <td>0</td>\n",
       "    </tr>\n",
       "    <tr>\n",
       "      <th>49998</th>\n",
       "      <td>9</td>\n",
       "      <td>PAYMENT</td>\n",
       "      <td>5485.20</td>\n",
       "      <td>C1586381033</td>\n",
       "      <td>1182835.10</td>\n",
       "      <td>1177349.90</td>\n",
       "      <td>M741912557</td>\n",
       "      <td>0.0</td>\n",
       "      <td>0.0</td>\n",
       "      <td>0</td>\n",
       "      <td>0</td>\n",
       "    </tr>\n",
       "    <tr>\n",
       "      <th>49999</th>\n",
       "      <td>9</td>\n",
       "      <td>PAYMENT</td>\n",
       "      <td>629.44</td>\n",
       "      <td>C741191323</td>\n",
       "      <td>1177349.90</td>\n",
       "      <td>1176720.46</td>\n",
       "      <td>M1728418012</td>\n",
       "      <td>0.0</td>\n",
       "      <td>0.0</td>\n",
       "      <td>0</td>\n",
       "      <td>0</td>\n",
       "    </tr>\n",
       "  </tbody>\n",
       "</table>\n",
       "<p>50000 rows × 11 columns</p>\n",
       "</div>"
      ]
     },
     "execution_count": 42,
     "metadata": {},
     "output_type": "execute_result"
    }
   ],
   "execution_count": 42
  },
  {
   "cell_type": "code",
   "id": "72a164a1-53b6-4b87-98d2-a524fcdb7f7b",
   "metadata": {
    "ExecuteTime": {
     "end_time": "2024-11-13T18:54:10.538356Z",
     "start_time": "2024-11-13T18:54:10.498168Z"
    }
   },
   "source": [
    "{column: len(data[column].unique()) for column in data.columns}"
   ],
   "outputs": [
    {
     "data": {
      "text/plain": [
       "{'step': 9,\n",
       " 'type': 5,\n",
       " 'amount': 49786,\n",
       " 'nameOrig': 50000,\n",
       " 'oldbalanceOrg': 30572,\n",
       " 'newbalanceOrig': 24328,\n",
       " 'nameDest': 28499,\n",
       " 'oldbalanceDest': 25369,\n",
       " 'newbalanceDest': 9367,\n",
       " 'isFraud': 2,\n",
       " 'isFlaggedFraud': 1}"
      ]
     },
     "execution_count": 43,
     "metadata": {},
     "output_type": "execute_result"
    }
   ],
   "execution_count": 43
  },
  {
   "cell_type": "code",
   "id": "f5858de9-1964-4286-8ae1-cceb82528e17",
   "metadata": {
    "ExecuteTime": {
     "end_time": "2024-11-13T18:54:16.114992Z",
     "start_time": "2024-11-13T18:54:16.111792Z"
    }
   },
   "source": [
    "def onehot_encode(df, column, prefix):\n",
    "    df = df.copy()\n",
    "    dummies = pd.get_dummies(df[column], prefix=prefix)\n",
    "    df = pd.concat([df, dummies], axis=1)\n",
    "    df = df.drop(column, axis=1)\n",
    "    return df"
   ],
   "outputs": [],
   "execution_count": 44
  },
  {
   "cell_type": "code",
   "id": "a69a90dd-dcc1-4a7c-9dd1-6b199670bd46",
   "metadata": {
    "ExecuteTime": {
     "end_time": "2024-11-13T18:54:19.451896Z",
     "start_time": "2024-11-13T18:54:19.444485Z"
    }
   },
   "source": [
    "def preprocess_inputs(df):\n",
    "    df = df.copy()\n",
    "    \n",
    "    \n",
    "    # Drop step, nameOrig, and isFlaggedFraud columns\n",
    "    df = df.drop(['step', 'nameOrig', 'isFlaggedFraud'], axis=1)\n",
    "    \n",
    "    \n",
    "    # One-hot encode the type column\n",
    "    df = onehot_encode(df, column='type', prefix='')\n",
    "    \n",
    "    y = df['isFraud'].copy()\n",
    "    X = df.drop('isFraud', axis=1).copy()\n",
    "    \n",
    "    \n",
    "    # Train-test split\n",
    "    X_train, X_test, y_train, y_test = train_test_split(X, y, train_size=0.7, random_state=123)\n",
    "    \n",
    "    \n",
    "    # Create a tokenizer and fit it to the customer data\n",
    "    tokenizer = tf.keras.preprocessing.text.Tokenizer()\n",
    "    tokenizer.fit_on_texts(X_train['nameDest'])\n",
    "    \n",
    "    print(\"Total # of customers:\", len(tokenizer.word_index))\n",
    "\n",
    "    # Save the tokenizer\n",
    "    with open('tokenizer.pkl', 'wb') as f:\n",
    "        pickle.dump(tokenizer, f)\n",
    "    \n",
    "    # Create tokenized customer lists\n",
    "    customers_train = tokenizer.texts_to_sequences(X_train['nameDest'])\n",
    "    customers_test = tokenizer.texts_to_sequences(X_test['nameDest'])\n",
    "    \n",
    "    \n",
    "    # Pad sequences\n",
    "    customers_train = tf.keras.preprocessing.sequence.pad_sequences(customers_train, maxlen=1)\n",
    "    customers_test = tf.keras.preprocessing.sequence.pad_sequences(customers_test, maxlen=1)\n",
    "    \n",
    "    \n",
    "    # Drop nameDest column\n",
    "    X_train = X_train.drop('nameDest', axis=1)\n",
    "    X_test = X_test.drop('nameDest', axis=1)\n",
    "    \n",
    "    \n",
    "    # Scale X with a standard scaler\n",
    "    scaler = StandardScaler()\n",
    "    scaler.fit(X_train)\n",
    "    \n",
    "    X_train = pd.DataFrame(scaler.transform(X_train), columns=X_train.columns)\n",
    "    X_test = pd.DataFrame(scaler.transform(X_test), columns=X_test.columns)\n",
    "\n",
    "    # Save the scaler (already done)\n",
    "    with open('scaler.pkl', 'wb') as f:\n",
    "        pickle.dump(scaler, f)\n",
    "    \n",
    "    \n",
    "    return X_train, X_test, customers_train, customers_test, y_train, y_test"
   ],
   "outputs": [],
   "execution_count": 45
  },
  {
   "cell_type": "code",
   "id": "346952e4-16ad-4034-bbee-e65ccd6bfe8d",
   "metadata": {
    "ExecuteTime": {
     "end_time": "2024-11-13T18:54:53.566081Z",
     "start_time": "2024-11-13T18:54:52.938965Z"
    }
   },
   "source": "X_train, X_test, customers_train, customers_test, y_train, y_test = preprocess_inputs(data)",
   "outputs": [
    {
     "name": "stdout",
     "output_type": "stream",
     "text": [
      "Total # of customers: 21017\n"
     ]
    }
   ],
   "execution_count": 46
  },
  {
   "metadata": {
    "ExecuteTime": {
     "end_time": "2024-11-13T18:56:32.448905Z",
     "start_time": "2024-11-13T18:56:32.439513Z"
    }
   },
   "cell_type": "code",
   "source": "customers_train\n",
   "id": "4ad3e4cbd16afae6",
   "outputs": [
    {
     "data": {
      "text/plain": [
       "array([[ 3450],\n",
       "       [ 3451],\n",
       "       [  579],\n",
       "       ...,\n",
       "       [ 1149],\n",
       "       [  685],\n",
       "       [21017]], dtype=int32)"
      ]
     },
     "execution_count": 47,
     "metadata": {},
     "output_type": "execute_result"
    }
   ],
   "execution_count": 47
  },
  {
   "cell_type": "code",
   "id": "ff5014d2-7e14-443b-84aa-7b8a435075fb",
   "metadata": {
    "ExecuteTime": {
     "end_time": "2024-11-13T18:56:50.490296Z",
     "start_time": "2024-11-13T18:56:50.465685Z"
    }
   },
   "source": "X_train",
   "outputs": [
    {
     "data": {
      "text/plain": [
       "         amount  oldbalanceOrg  newbalanceOrig  oldbalanceDest  \\\n",
       "0     -0.476533      -0.331007       -0.333246       -0.347251   \n",
       "1     -0.473382      -0.325069       -0.327862       -0.347251   \n",
       "2      0.659963       0.315640        0.469088        2.728245   \n",
       "3      2.643818      -0.258553       -0.333403        2.149973   \n",
       "4     -0.476656      -0.322919       -0.325276       -0.347251   \n",
       "...         ...            ...             ...             ...   \n",
       "34995 -0.282179      -0.332726       -0.333403       -0.312612   \n",
       "34996 -0.193468      -0.332726       -0.333403       -0.250166   \n",
       "34997 -0.045903      -0.330860       -0.268056       -0.131990   \n",
       "34998 -0.474906      -0.332726       -0.333403       -0.071037   \n",
       "34999 -0.450581      -0.332726       -0.333403       -0.347251   \n",
       "\n",
       "       newbalanceDest  _CASH_IN  _CASH_OUT    _DEBIT  _PAYMENT  _TRANSFER  \n",
       "0           -0.399715 -0.465571  -0.618309 -0.115403  1.135244  -0.324425  \n",
       "1           -0.399715 -0.465571  -0.618309 -0.115403  1.135244  -0.324425  \n",
       "2            2.704851  2.147900  -0.618309 -0.115403 -0.880868  -0.324425  \n",
       "3            3.096149 -0.465571  -0.618309 -0.115403 -0.880868   3.082377  \n",
       "4           -0.399715 -0.465571  -0.618309 -0.115403  1.135244  -0.324425  \n",
       "...               ...       ...        ...       ...       ...        ...  \n",
       "34995       -0.378779 -0.465571   1.617313 -0.115403 -0.880868  -0.324425  \n",
       "34996       -0.231651 -0.465571   1.617313 -0.115403 -0.880868  -0.324425  \n",
       "34997       -0.134482  2.147900  -0.618309 -0.115403 -0.880868  -0.324425  \n",
       "34998       -0.237439 -0.465571   1.617313 -0.115403 -0.880868  -0.324425  \n",
       "34999       -0.399715 -0.465571  -0.618309 -0.115403  1.135244  -0.324425  \n",
       "\n",
       "[35000 rows x 10 columns]"
      ],
      "text/html": [
       "<div>\n",
       "<style scoped>\n",
       "    .dataframe tbody tr th:only-of-type {\n",
       "        vertical-align: middle;\n",
       "    }\n",
       "\n",
       "    .dataframe tbody tr th {\n",
       "        vertical-align: top;\n",
       "    }\n",
       "\n",
       "    .dataframe thead th {\n",
       "        text-align: right;\n",
       "    }\n",
       "</style>\n",
       "<table border=\"1\" class=\"dataframe\">\n",
       "  <thead>\n",
       "    <tr style=\"text-align: right;\">\n",
       "      <th></th>\n",
       "      <th>amount</th>\n",
       "      <th>oldbalanceOrg</th>\n",
       "      <th>newbalanceOrig</th>\n",
       "      <th>oldbalanceDest</th>\n",
       "      <th>newbalanceDest</th>\n",
       "      <th>_CASH_IN</th>\n",
       "      <th>_CASH_OUT</th>\n",
       "      <th>_DEBIT</th>\n",
       "      <th>_PAYMENT</th>\n",
       "      <th>_TRANSFER</th>\n",
       "    </tr>\n",
       "  </thead>\n",
       "  <tbody>\n",
       "    <tr>\n",
       "      <th>0</th>\n",
       "      <td>-0.476533</td>\n",
       "      <td>-0.331007</td>\n",
       "      <td>-0.333246</td>\n",
       "      <td>-0.347251</td>\n",
       "      <td>-0.399715</td>\n",
       "      <td>-0.465571</td>\n",
       "      <td>-0.618309</td>\n",
       "      <td>-0.115403</td>\n",
       "      <td>1.135244</td>\n",
       "      <td>-0.324425</td>\n",
       "    </tr>\n",
       "    <tr>\n",
       "      <th>1</th>\n",
       "      <td>-0.473382</td>\n",
       "      <td>-0.325069</td>\n",
       "      <td>-0.327862</td>\n",
       "      <td>-0.347251</td>\n",
       "      <td>-0.399715</td>\n",
       "      <td>-0.465571</td>\n",
       "      <td>-0.618309</td>\n",
       "      <td>-0.115403</td>\n",
       "      <td>1.135244</td>\n",
       "      <td>-0.324425</td>\n",
       "    </tr>\n",
       "    <tr>\n",
       "      <th>2</th>\n",
       "      <td>0.659963</td>\n",
       "      <td>0.315640</td>\n",
       "      <td>0.469088</td>\n",
       "      <td>2.728245</td>\n",
       "      <td>2.704851</td>\n",
       "      <td>2.147900</td>\n",
       "      <td>-0.618309</td>\n",
       "      <td>-0.115403</td>\n",
       "      <td>-0.880868</td>\n",
       "      <td>-0.324425</td>\n",
       "    </tr>\n",
       "    <tr>\n",
       "      <th>3</th>\n",
       "      <td>2.643818</td>\n",
       "      <td>-0.258553</td>\n",
       "      <td>-0.333403</td>\n",
       "      <td>2.149973</td>\n",
       "      <td>3.096149</td>\n",
       "      <td>-0.465571</td>\n",
       "      <td>-0.618309</td>\n",
       "      <td>-0.115403</td>\n",
       "      <td>-0.880868</td>\n",
       "      <td>3.082377</td>\n",
       "    </tr>\n",
       "    <tr>\n",
       "      <th>4</th>\n",
       "      <td>-0.476656</td>\n",
       "      <td>-0.322919</td>\n",
       "      <td>-0.325276</td>\n",
       "      <td>-0.347251</td>\n",
       "      <td>-0.399715</td>\n",
       "      <td>-0.465571</td>\n",
       "      <td>-0.618309</td>\n",
       "      <td>-0.115403</td>\n",
       "      <td>1.135244</td>\n",
       "      <td>-0.324425</td>\n",
       "    </tr>\n",
       "    <tr>\n",
       "      <th>...</th>\n",
       "      <td>...</td>\n",
       "      <td>...</td>\n",
       "      <td>...</td>\n",
       "      <td>...</td>\n",
       "      <td>...</td>\n",
       "      <td>...</td>\n",
       "      <td>...</td>\n",
       "      <td>...</td>\n",
       "      <td>...</td>\n",
       "      <td>...</td>\n",
       "    </tr>\n",
       "    <tr>\n",
       "      <th>34995</th>\n",
       "      <td>-0.282179</td>\n",
       "      <td>-0.332726</td>\n",
       "      <td>-0.333403</td>\n",
       "      <td>-0.312612</td>\n",
       "      <td>-0.378779</td>\n",
       "      <td>-0.465571</td>\n",
       "      <td>1.617313</td>\n",
       "      <td>-0.115403</td>\n",
       "      <td>-0.880868</td>\n",
       "      <td>-0.324425</td>\n",
       "    </tr>\n",
       "    <tr>\n",
       "      <th>34996</th>\n",
       "      <td>-0.193468</td>\n",
       "      <td>-0.332726</td>\n",
       "      <td>-0.333403</td>\n",
       "      <td>-0.250166</td>\n",
       "      <td>-0.231651</td>\n",
       "      <td>-0.465571</td>\n",
       "      <td>1.617313</td>\n",
       "      <td>-0.115403</td>\n",
       "      <td>-0.880868</td>\n",
       "      <td>-0.324425</td>\n",
       "    </tr>\n",
       "    <tr>\n",
       "      <th>34997</th>\n",
       "      <td>-0.045903</td>\n",
       "      <td>-0.330860</td>\n",
       "      <td>-0.268056</td>\n",
       "      <td>-0.131990</td>\n",
       "      <td>-0.134482</td>\n",
       "      <td>2.147900</td>\n",
       "      <td>-0.618309</td>\n",
       "      <td>-0.115403</td>\n",
       "      <td>-0.880868</td>\n",
       "      <td>-0.324425</td>\n",
       "    </tr>\n",
       "    <tr>\n",
       "      <th>34998</th>\n",
       "      <td>-0.474906</td>\n",
       "      <td>-0.332726</td>\n",
       "      <td>-0.333403</td>\n",
       "      <td>-0.071037</td>\n",
       "      <td>-0.237439</td>\n",
       "      <td>-0.465571</td>\n",
       "      <td>1.617313</td>\n",
       "      <td>-0.115403</td>\n",
       "      <td>-0.880868</td>\n",
       "      <td>-0.324425</td>\n",
       "    </tr>\n",
       "    <tr>\n",
       "      <th>34999</th>\n",
       "      <td>-0.450581</td>\n",
       "      <td>-0.332726</td>\n",
       "      <td>-0.333403</td>\n",
       "      <td>-0.347251</td>\n",
       "      <td>-0.399715</td>\n",
       "      <td>-0.465571</td>\n",
       "      <td>-0.618309</td>\n",
       "      <td>-0.115403</td>\n",
       "      <td>1.135244</td>\n",
       "      <td>-0.324425</td>\n",
       "    </tr>\n",
       "  </tbody>\n",
       "</table>\n",
       "<p>35000 rows × 10 columns</p>\n",
       "</div>"
      ]
     },
     "execution_count": 48,
     "metadata": {},
     "output_type": "execute_result"
    }
   ],
   "execution_count": 48
  },
  {
   "cell_type": "code",
   "id": "db090562-cdc0-41e1-a243-7130a674e372",
   "metadata": {
    "ExecuteTime": {
     "end_time": "2024-11-13T18:57:08.077279Z",
     "start_time": "2024-11-13T18:57:08.061329Z"
    }
   },
   "source": [
    "y_train"
   ],
   "outputs": [
    {
     "data": {
      "text/plain": [
       "17325    0\n",
       "13544    0\n",
       "49844    0\n",
       "16371    0\n",
       "13084    0\n",
       "        ..\n",
       "7763     0\n",
       "15377    0\n",
       "17730    0\n",
       "28030    0\n",
       "15725    0\n",
       "Name: isFraud, Length: 35000, dtype: int64"
      ]
     },
     "execution_count": 49,
     "metadata": {},
     "output_type": "execute_result"
    }
   ],
   "execution_count": 49
  },
  {
   "cell_type": "markdown",
   "id": "065c9a35-5ab3-4ff0-ba57-be8cd2a931a7",
   "metadata": {},
   "source": [
    "# Handling class imbalance"
   ]
  },
  {
   "cell_type": "code",
   "id": "26984378-e337-4df3-b76d-10dbe4307a30",
   "metadata": {
    "ExecuteTime": {
     "end_time": "2024-11-13T18:57:15.179263Z",
     "start_time": "2024-11-13T18:57:15.172250Z"
    }
   },
   "source": [
    "train_df = pd.concat([X_train, pd.Series(np.squeeze(customers_train), name='customer'), y_train.reset_index(drop=True)], axis=1)"
   ],
   "outputs": [],
   "execution_count": 50
  },
  {
   "cell_type": "code",
   "id": "01ed337a-8d25-4803-8a24-f1d4fe43d73b",
   "metadata": {
    "ExecuteTime": {
     "end_time": "2024-11-13T18:57:17.970054Z",
     "start_time": "2024-11-13T18:57:17.960481Z"
    }
   },
   "source": [
    "train_df"
   ],
   "outputs": [
    {
     "data": {
      "text/plain": [
       "         amount  oldbalanceOrg  newbalanceOrig  oldbalanceDest  \\\n",
       "0     -0.476533      -0.331007       -0.333246       -0.347251   \n",
       "1     -0.473382      -0.325069       -0.327862       -0.347251   \n",
       "2      0.659963       0.315640        0.469088        2.728245   \n",
       "3      2.643818      -0.258553       -0.333403        2.149973   \n",
       "4     -0.476656      -0.322919       -0.325276       -0.347251   \n",
       "...         ...            ...             ...             ...   \n",
       "34995 -0.282179      -0.332726       -0.333403       -0.312612   \n",
       "34996 -0.193468      -0.332726       -0.333403       -0.250166   \n",
       "34997 -0.045903      -0.330860       -0.268056       -0.131990   \n",
       "34998 -0.474906      -0.332726       -0.333403       -0.071037   \n",
       "34999 -0.450581      -0.332726       -0.333403       -0.347251   \n",
       "\n",
       "       newbalanceDest  _CASH_IN  _CASH_OUT    _DEBIT  _PAYMENT  _TRANSFER  \\\n",
       "0           -0.399715 -0.465571  -0.618309 -0.115403  1.135244  -0.324425   \n",
       "1           -0.399715 -0.465571  -0.618309 -0.115403  1.135244  -0.324425   \n",
       "2            2.704851  2.147900  -0.618309 -0.115403 -0.880868  -0.324425   \n",
       "3            3.096149 -0.465571  -0.618309 -0.115403 -0.880868   3.082377   \n",
       "4           -0.399715 -0.465571  -0.618309 -0.115403  1.135244  -0.324425   \n",
       "...               ...       ...        ...       ...       ...        ...   \n",
       "34995       -0.378779 -0.465571   1.617313 -0.115403 -0.880868  -0.324425   \n",
       "34996       -0.231651 -0.465571   1.617313 -0.115403 -0.880868  -0.324425   \n",
       "34997       -0.134482  2.147900  -0.618309 -0.115403 -0.880868  -0.324425   \n",
       "34998       -0.237439 -0.465571   1.617313 -0.115403 -0.880868  -0.324425   \n",
       "34999       -0.399715 -0.465571  -0.618309 -0.115403  1.135244  -0.324425   \n",
       "\n",
       "       customer  isFraud  \n",
       "0          3450        0  \n",
       "1          3451        0  \n",
       "2           579        0  \n",
       "3           146        0  \n",
       "4          3452        0  \n",
       "...         ...      ...  \n",
       "34995       399        0  \n",
       "34996       304        0  \n",
       "34997      1149        0  \n",
       "34998       685        0  \n",
       "34999     21017        0  \n",
       "\n",
       "[35000 rows x 12 columns]"
      ],
      "text/html": [
       "<div>\n",
       "<style scoped>\n",
       "    .dataframe tbody tr th:only-of-type {\n",
       "        vertical-align: middle;\n",
       "    }\n",
       "\n",
       "    .dataframe tbody tr th {\n",
       "        vertical-align: top;\n",
       "    }\n",
       "\n",
       "    .dataframe thead th {\n",
       "        text-align: right;\n",
       "    }\n",
       "</style>\n",
       "<table border=\"1\" class=\"dataframe\">\n",
       "  <thead>\n",
       "    <tr style=\"text-align: right;\">\n",
       "      <th></th>\n",
       "      <th>amount</th>\n",
       "      <th>oldbalanceOrg</th>\n",
       "      <th>newbalanceOrig</th>\n",
       "      <th>oldbalanceDest</th>\n",
       "      <th>newbalanceDest</th>\n",
       "      <th>_CASH_IN</th>\n",
       "      <th>_CASH_OUT</th>\n",
       "      <th>_DEBIT</th>\n",
       "      <th>_PAYMENT</th>\n",
       "      <th>_TRANSFER</th>\n",
       "      <th>customer</th>\n",
       "      <th>isFraud</th>\n",
       "    </tr>\n",
       "  </thead>\n",
       "  <tbody>\n",
       "    <tr>\n",
       "      <th>0</th>\n",
       "      <td>-0.476533</td>\n",
       "      <td>-0.331007</td>\n",
       "      <td>-0.333246</td>\n",
       "      <td>-0.347251</td>\n",
       "      <td>-0.399715</td>\n",
       "      <td>-0.465571</td>\n",
       "      <td>-0.618309</td>\n",
       "      <td>-0.115403</td>\n",
       "      <td>1.135244</td>\n",
       "      <td>-0.324425</td>\n",
       "      <td>3450</td>\n",
       "      <td>0</td>\n",
       "    </tr>\n",
       "    <tr>\n",
       "      <th>1</th>\n",
       "      <td>-0.473382</td>\n",
       "      <td>-0.325069</td>\n",
       "      <td>-0.327862</td>\n",
       "      <td>-0.347251</td>\n",
       "      <td>-0.399715</td>\n",
       "      <td>-0.465571</td>\n",
       "      <td>-0.618309</td>\n",
       "      <td>-0.115403</td>\n",
       "      <td>1.135244</td>\n",
       "      <td>-0.324425</td>\n",
       "      <td>3451</td>\n",
       "      <td>0</td>\n",
       "    </tr>\n",
       "    <tr>\n",
       "      <th>2</th>\n",
       "      <td>0.659963</td>\n",
       "      <td>0.315640</td>\n",
       "      <td>0.469088</td>\n",
       "      <td>2.728245</td>\n",
       "      <td>2.704851</td>\n",
       "      <td>2.147900</td>\n",
       "      <td>-0.618309</td>\n",
       "      <td>-0.115403</td>\n",
       "      <td>-0.880868</td>\n",
       "      <td>-0.324425</td>\n",
       "      <td>579</td>\n",
       "      <td>0</td>\n",
       "    </tr>\n",
       "    <tr>\n",
       "      <th>3</th>\n",
       "      <td>2.643818</td>\n",
       "      <td>-0.258553</td>\n",
       "      <td>-0.333403</td>\n",
       "      <td>2.149973</td>\n",
       "      <td>3.096149</td>\n",
       "      <td>-0.465571</td>\n",
       "      <td>-0.618309</td>\n",
       "      <td>-0.115403</td>\n",
       "      <td>-0.880868</td>\n",
       "      <td>3.082377</td>\n",
       "      <td>146</td>\n",
       "      <td>0</td>\n",
       "    </tr>\n",
       "    <tr>\n",
       "      <th>4</th>\n",
       "      <td>-0.476656</td>\n",
       "      <td>-0.322919</td>\n",
       "      <td>-0.325276</td>\n",
       "      <td>-0.347251</td>\n",
       "      <td>-0.399715</td>\n",
       "      <td>-0.465571</td>\n",
       "      <td>-0.618309</td>\n",
       "      <td>-0.115403</td>\n",
       "      <td>1.135244</td>\n",
       "      <td>-0.324425</td>\n",
       "      <td>3452</td>\n",
       "      <td>0</td>\n",
       "    </tr>\n",
       "    <tr>\n",
       "      <th>...</th>\n",
       "      <td>...</td>\n",
       "      <td>...</td>\n",
       "      <td>...</td>\n",
       "      <td>...</td>\n",
       "      <td>...</td>\n",
       "      <td>...</td>\n",
       "      <td>...</td>\n",
       "      <td>...</td>\n",
       "      <td>...</td>\n",
       "      <td>...</td>\n",
       "      <td>...</td>\n",
       "      <td>...</td>\n",
       "    </tr>\n",
       "    <tr>\n",
       "      <th>34995</th>\n",
       "      <td>-0.282179</td>\n",
       "      <td>-0.332726</td>\n",
       "      <td>-0.333403</td>\n",
       "      <td>-0.312612</td>\n",
       "      <td>-0.378779</td>\n",
       "      <td>-0.465571</td>\n",
       "      <td>1.617313</td>\n",
       "      <td>-0.115403</td>\n",
       "      <td>-0.880868</td>\n",
       "      <td>-0.324425</td>\n",
       "      <td>399</td>\n",
       "      <td>0</td>\n",
       "    </tr>\n",
       "    <tr>\n",
       "      <th>34996</th>\n",
       "      <td>-0.193468</td>\n",
       "      <td>-0.332726</td>\n",
       "      <td>-0.333403</td>\n",
       "      <td>-0.250166</td>\n",
       "      <td>-0.231651</td>\n",
       "      <td>-0.465571</td>\n",
       "      <td>1.617313</td>\n",
       "      <td>-0.115403</td>\n",
       "      <td>-0.880868</td>\n",
       "      <td>-0.324425</td>\n",
       "      <td>304</td>\n",
       "      <td>0</td>\n",
       "    </tr>\n",
       "    <tr>\n",
       "      <th>34997</th>\n",
       "      <td>-0.045903</td>\n",
       "      <td>-0.330860</td>\n",
       "      <td>-0.268056</td>\n",
       "      <td>-0.131990</td>\n",
       "      <td>-0.134482</td>\n",
       "      <td>2.147900</td>\n",
       "      <td>-0.618309</td>\n",
       "      <td>-0.115403</td>\n",
       "      <td>-0.880868</td>\n",
       "      <td>-0.324425</td>\n",
       "      <td>1149</td>\n",
       "      <td>0</td>\n",
       "    </tr>\n",
       "    <tr>\n",
       "      <th>34998</th>\n",
       "      <td>-0.474906</td>\n",
       "      <td>-0.332726</td>\n",
       "      <td>-0.333403</td>\n",
       "      <td>-0.071037</td>\n",
       "      <td>-0.237439</td>\n",
       "      <td>-0.465571</td>\n",
       "      <td>1.617313</td>\n",
       "      <td>-0.115403</td>\n",
       "      <td>-0.880868</td>\n",
       "      <td>-0.324425</td>\n",
       "      <td>685</td>\n",
       "      <td>0</td>\n",
       "    </tr>\n",
       "    <tr>\n",
       "      <th>34999</th>\n",
       "      <td>-0.450581</td>\n",
       "      <td>-0.332726</td>\n",
       "      <td>-0.333403</td>\n",
       "      <td>-0.347251</td>\n",
       "      <td>-0.399715</td>\n",
       "      <td>-0.465571</td>\n",
       "      <td>-0.618309</td>\n",
       "      <td>-0.115403</td>\n",
       "      <td>1.135244</td>\n",
       "      <td>-0.324425</td>\n",
       "      <td>21017</td>\n",
       "      <td>0</td>\n",
       "    </tr>\n",
       "  </tbody>\n",
       "</table>\n",
       "<p>35000 rows × 12 columns</p>\n",
       "</div>"
      ]
     },
     "execution_count": 51,
     "metadata": {},
     "output_type": "execute_result"
    }
   ],
   "execution_count": 51
  },
  {
   "cell_type": "code",
   "id": "1c591dbb-e6d0-43d5-a96c-3ba1cc778fd8",
   "metadata": {
    "ExecuteTime": {
     "end_time": "2024-11-13T18:57:22.567500Z",
     "start_time": "2024-11-13T18:57:22.535590Z"
    }
   },
   "source": [
    "train_df['isFraud'].value_counts()"
   ],
   "outputs": [
    {
     "data": {
      "text/plain": [
       "isFraud\n",
       "0    34929\n",
       "1       71\n",
       "Name: count, dtype: int64"
      ]
     },
     "execution_count": 52,
     "metadata": {},
     "output_type": "execute_result"
    }
   ],
   "execution_count": 52
  },
  {
   "cell_type": "code",
   "id": "939d83f6-62b9-45fd-ae19-4f6a59c1c7c7",
   "metadata": {
    "ExecuteTime": {
     "end_time": "2024-11-13T18:57:26.711992Z",
     "start_time": "2024-11-13T18:57:26.709163Z"
    }
   },
   "source": [
    "print(\"Number of examples to sample:\", 34929 - 71)"
   ],
   "outputs": [
    {
     "name": "stdout",
     "output_type": "stream",
     "text": [
      "Number of examples to sample: 34858\n"
     ]
    }
   ],
   "execution_count": 53
  },
  {
   "cell_type": "code",
   "id": "9afaceae-18a2-4019-b638-12f51605cfc5",
   "metadata": {
    "ExecuteTime": {
     "end_time": "2024-11-13T18:57:31.423063Z",
     "start_time": "2024-11-13T18:57:31.402260Z"
    }
   },
   "source": [
    "oversampled_data = train_df.query(\"isFraud == 1\").sample(34858, replace=True, random_state=123)"
   ],
   "outputs": [],
   "execution_count": 54
  },
  {
   "cell_type": "code",
   "id": "457caff0-70ef-4aae-a5fe-a23d19c362ed",
   "metadata": {
    "ExecuteTime": {
     "end_time": "2024-11-13T18:57:33.800934Z",
     "start_time": "2024-11-13T18:57:33.788354Z"
    }
   },
   "source": [
    "oversampled_data"
   ],
   "outputs": [
    {
     "data": {
      "text/plain": [
       "         amount  oldbalanceOrg  newbalanceOrig  oldbalanceDest  \\\n",
       "33821 -0.408856      -0.321259       -0.333403       -0.343521   \n",
       "11627 -0.454176      -0.327894       -0.333403       -0.332356   \n",
       "28865  0.188942      -0.233736       -0.333403       -0.347251   \n",
       "23959  2.522990       0.107987       -0.333403       -0.292894   \n",
       "18502 -0.454256      -0.327906       -0.333403       -0.347251   \n",
       "...         ...            ...             ...             ...   \n",
       "20572 -0.451855      -0.327554       -0.333403       -0.347251   \n",
       "7264  -0.207165      -0.291730       -0.333403       -0.338556   \n",
       "15636 -0.486670      -0.332651       -0.333403       -0.345580   \n",
       "14302  3.502961       0.251463       -0.333403       -0.347251   \n",
       "25138 -0.218290      -0.293359       -0.333403       -0.347251   \n",
       "\n",
       "       newbalanceDest  _CASH_IN  _CASH_OUT    _DEBIT  _PAYMENT  _TRANSFER  \\\n",
       "33821       -0.388017 -0.465571   1.617313 -0.115403 -0.880868  -0.324425   \n",
       "11627       -0.391365 -0.465571   1.617313 -0.115403 -0.880868  -0.324425   \n",
       "28865       -0.399715 -0.465571  -0.618309 -0.115403 -0.880868   3.082377   \n",
       "23959       -0.024354 -0.465571   1.617313 -0.115403 -0.880868  -0.324425   \n",
       "18502       -0.396106 -0.465571   1.617313 -0.115403 -0.880868  -0.324425   \n",
       "...               ...       ...        ...       ...       ...        ...   \n",
       "20572       -0.296089 -0.465571   1.617313 -0.115403 -0.880868  -0.324425   \n",
       "7264        -0.399715 -0.465571   1.617313 -0.115403 -0.880868  -0.324425   \n",
       "15636       -0.399715 -0.465571   1.617313 -0.115403 -0.880868  -0.324425   \n",
       "14302       -0.399715 -0.465571  -0.618309 -0.115403 -0.880868   3.082377   \n",
       "25138       -0.399715 -0.465571  -0.618309 -0.115403 -0.880868   3.082377   \n",
       "\n",
       "       customer  isFraud  \n",
       "33821      1428        1  \n",
       "11627      2108        1  \n",
       "28865      1378        1  \n",
       "23959        55        1  \n",
       "18502       358        1  \n",
       "...         ...      ...  \n",
       "20572      3181        1  \n",
       "7264       7133        1  \n",
       "15636     11307        1  \n",
       "14302      1920        1  \n",
       "25138      2352        1  \n",
       "\n",
       "[34858 rows x 12 columns]"
      ],
      "text/html": [
       "<div>\n",
       "<style scoped>\n",
       "    .dataframe tbody tr th:only-of-type {\n",
       "        vertical-align: middle;\n",
       "    }\n",
       "\n",
       "    .dataframe tbody tr th {\n",
       "        vertical-align: top;\n",
       "    }\n",
       "\n",
       "    .dataframe thead th {\n",
       "        text-align: right;\n",
       "    }\n",
       "</style>\n",
       "<table border=\"1\" class=\"dataframe\">\n",
       "  <thead>\n",
       "    <tr style=\"text-align: right;\">\n",
       "      <th></th>\n",
       "      <th>amount</th>\n",
       "      <th>oldbalanceOrg</th>\n",
       "      <th>newbalanceOrig</th>\n",
       "      <th>oldbalanceDest</th>\n",
       "      <th>newbalanceDest</th>\n",
       "      <th>_CASH_IN</th>\n",
       "      <th>_CASH_OUT</th>\n",
       "      <th>_DEBIT</th>\n",
       "      <th>_PAYMENT</th>\n",
       "      <th>_TRANSFER</th>\n",
       "      <th>customer</th>\n",
       "      <th>isFraud</th>\n",
       "    </tr>\n",
       "  </thead>\n",
       "  <tbody>\n",
       "    <tr>\n",
       "      <th>33821</th>\n",
       "      <td>-0.408856</td>\n",
       "      <td>-0.321259</td>\n",
       "      <td>-0.333403</td>\n",
       "      <td>-0.343521</td>\n",
       "      <td>-0.388017</td>\n",
       "      <td>-0.465571</td>\n",
       "      <td>1.617313</td>\n",
       "      <td>-0.115403</td>\n",
       "      <td>-0.880868</td>\n",
       "      <td>-0.324425</td>\n",
       "      <td>1428</td>\n",
       "      <td>1</td>\n",
       "    </tr>\n",
       "    <tr>\n",
       "      <th>11627</th>\n",
       "      <td>-0.454176</td>\n",
       "      <td>-0.327894</td>\n",
       "      <td>-0.333403</td>\n",
       "      <td>-0.332356</td>\n",
       "      <td>-0.391365</td>\n",
       "      <td>-0.465571</td>\n",
       "      <td>1.617313</td>\n",
       "      <td>-0.115403</td>\n",
       "      <td>-0.880868</td>\n",
       "      <td>-0.324425</td>\n",
       "      <td>2108</td>\n",
       "      <td>1</td>\n",
       "    </tr>\n",
       "    <tr>\n",
       "      <th>28865</th>\n",
       "      <td>0.188942</td>\n",
       "      <td>-0.233736</td>\n",
       "      <td>-0.333403</td>\n",
       "      <td>-0.347251</td>\n",
       "      <td>-0.399715</td>\n",
       "      <td>-0.465571</td>\n",
       "      <td>-0.618309</td>\n",
       "      <td>-0.115403</td>\n",
       "      <td>-0.880868</td>\n",
       "      <td>3.082377</td>\n",
       "      <td>1378</td>\n",
       "      <td>1</td>\n",
       "    </tr>\n",
       "    <tr>\n",
       "      <th>23959</th>\n",
       "      <td>2.522990</td>\n",
       "      <td>0.107987</td>\n",
       "      <td>-0.333403</td>\n",
       "      <td>-0.292894</td>\n",
       "      <td>-0.024354</td>\n",
       "      <td>-0.465571</td>\n",
       "      <td>1.617313</td>\n",
       "      <td>-0.115403</td>\n",
       "      <td>-0.880868</td>\n",
       "      <td>-0.324425</td>\n",
       "      <td>55</td>\n",
       "      <td>1</td>\n",
       "    </tr>\n",
       "    <tr>\n",
       "      <th>18502</th>\n",
       "      <td>-0.454256</td>\n",
       "      <td>-0.327906</td>\n",
       "      <td>-0.333403</td>\n",
       "      <td>-0.347251</td>\n",
       "      <td>-0.396106</td>\n",
       "      <td>-0.465571</td>\n",
       "      <td>1.617313</td>\n",
       "      <td>-0.115403</td>\n",
       "      <td>-0.880868</td>\n",
       "      <td>-0.324425</td>\n",
       "      <td>358</td>\n",
       "      <td>1</td>\n",
       "    </tr>\n",
       "    <tr>\n",
       "      <th>...</th>\n",
       "      <td>...</td>\n",
       "      <td>...</td>\n",
       "      <td>...</td>\n",
       "      <td>...</td>\n",
       "      <td>...</td>\n",
       "      <td>...</td>\n",
       "      <td>...</td>\n",
       "      <td>...</td>\n",
       "      <td>...</td>\n",
       "      <td>...</td>\n",
       "      <td>...</td>\n",
       "      <td>...</td>\n",
       "    </tr>\n",
       "    <tr>\n",
       "      <th>20572</th>\n",
       "      <td>-0.451855</td>\n",
       "      <td>-0.327554</td>\n",
       "      <td>-0.333403</td>\n",
       "      <td>-0.347251</td>\n",
       "      <td>-0.296089</td>\n",
       "      <td>-0.465571</td>\n",
       "      <td>1.617313</td>\n",
       "      <td>-0.115403</td>\n",
       "      <td>-0.880868</td>\n",
       "      <td>-0.324425</td>\n",
       "      <td>3181</td>\n",
       "      <td>1</td>\n",
       "    </tr>\n",
       "    <tr>\n",
       "      <th>7264</th>\n",
       "      <td>-0.207165</td>\n",
       "      <td>-0.291730</td>\n",
       "      <td>-0.333403</td>\n",
       "      <td>-0.338556</td>\n",
       "      <td>-0.399715</td>\n",
       "      <td>-0.465571</td>\n",
       "      <td>1.617313</td>\n",
       "      <td>-0.115403</td>\n",
       "      <td>-0.880868</td>\n",
       "      <td>-0.324425</td>\n",
       "      <td>7133</td>\n",
       "      <td>1</td>\n",
       "    </tr>\n",
       "    <tr>\n",
       "      <th>15636</th>\n",
       "      <td>-0.486670</td>\n",
       "      <td>-0.332651</td>\n",
       "      <td>-0.333403</td>\n",
       "      <td>-0.345580</td>\n",
       "      <td>-0.399715</td>\n",
       "      <td>-0.465571</td>\n",
       "      <td>1.617313</td>\n",
       "      <td>-0.115403</td>\n",
       "      <td>-0.880868</td>\n",
       "      <td>-0.324425</td>\n",
       "      <td>11307</td>\n",
       "      <td>1</td>\n",
       "    </tr>\n",
       "    <tr>\n",
       "      <th>14302</th>\n",
       "      <td>3.502961</td>\n",
       "      <td>0.251463</td>\n",
       "      <td>-0.333403</td>\n",
       "      <td>-0.347251</td>\n",
       "      <td>-0.399715</td>\n",
       "      <td>-0.465571</td>\n",
       "      <td>-0.618309</td>\n",
       "      <td>-0.115403</td>\n",
       "      <td>-0.880868</td>\n",
       "      <td>3.082377</td>\n",
       "      <td>1920</td>\n",
       "      <td>1</td>\n",
       "    </tr>\n",
       "    <tr>\n",
       "      <th>25138</th>\n",
       "      <td>-0.218290</td>\n",
       "      <td>-0.293359</td>\n",
       "      <td>-0.333403</td>\n",
       "      <td>-0.347251</td>\n",
       "      <td>-0.399715</td>\n",
       "      <td>-0.465571</td>\n",
       "      <td>-0.618309</td>\n",
       "      <td>-0.115403</td>\n",
       "      <td>-0.880868</td>\n",
       "      <td>3.082377</td>\n",
       "      <td>2352</td>\n",
       "      <td>1</td>\n",
       "    </tr>\n",
       "  </tbody>\n",
       "</table>\n",
       "<p>34858 rows × 12 columns</p>\n",
       "</div>"
      ]
     },
     "execution_count": 55,
     "metadata": {},
     "output_type": "execute_result"
    }
   ],
   "execution_count": 55
  },
  {
   "cell_type": "code",
   "id": "de4a7ddd-9caa-4963-bc91-d816d9c0bcaf",
   "metadata": {
    "ExecuteTime": {
     "end_time": "2024-11-13T18:57:35.455677Z",
     "start_time": "2024-11-13T18:57:35.435437Z"
    }
   },
   "source": [
    "train_df = pd.concat([train_df, oversampled_data], axis=0).sample(frac=1.0, random_state=123).reset_index(drop=True)"
   ],
   "outputs": [],
   "execution_count": 56
  },
  {
   "cell_type": "code",
   "id": "2645fa63-58b7-48ed-9f04-e0431313fd69",
   "metadata": {
    "ExecuteTime": {
     "end_time": "2024-11-13T18:57:39.844088Z",
     "start_time": "2024-11-13T18:57:39.831583Z"
    }
   },
   "source": [
    "train_df"
   ],
   "outputs": [
    {
     "data": {
      "text/plain": [
       "         amount  oldbalanceOrg  newbalanceOrig  oldbalanceDest  \\\n",
       "0     -0.455241      -0.328050       -0.333403       -0.347251   \n",
       "1     -0.433171       1.673388        1.646507       -0.299754   \n",
       "2     -0.474980      -0.309417       -0.312245       -0.347251   \n",
       "3     -0.388713      -0.332726       -0.333403       -0.347251   \n",
       "4     -0.469634      -0.332726       -0.333403       -0.347251   \n",
       "...         ...            ...             ...             ...   \n",
       "69853 -0.444370      -0.326458       -0.333403       -0.345862   \n",
       "69854 -0.455568      -0.328098       -0.333403       -0.347251   \n",
       "69855 -0.453397      -0.332726       -0.333403       -0.347251   \n",
       "69856 -0.442919      -0.088634       -0.099816       -0.347251   \n",
       "69857 -0.395403      -0.332726       -0.333403       -0.347251   \n",
       "\n",
       "       newbalanceDest  _CASH_IN  _CASH_OUT    _DEBIT  _PAYMENT  _TRANSFER  \\\n",
       "0           -0.399715 -0.465571  -0.618309 -0.115403 -0.880868   3.082377   \n",
       "1           -0.366017  2.147900  -0.618309 -0.115403 -0.880868  -0.324425   \n",
       "2           -0.399715 -0.465571  -0.618309 -0.115403  1.135244  -0.324425   \n",
       "3           -0.399715 -0.465571  -0.618309 -0.115403  1.135244  -0.324425   \n",
       "4           -0.399715 -0.465571  -0.618309 -0.115403  1.135244  -0.324425   \n",
       "...               ...       ...        ...       ...       ...        ...   \n",
       "69853       -0.350505 -0.465571   1.617313 -0.115403 -0.880868  -0.324425   \n",
       "69854       -0.399715 -0.465571  -0.618309 -0.115403 -0.880868   3.082377   \n",
       "69855       -0.399715 -0.465571  -0.618309 -0.115403  1.135244  -0.324425   \n",
       "69856       -0.399715 -0.465571  -0.618309 -0.115403  1.135244  -0.324425   \n",
       "69857       -0.399715 -0.465571  -0.618309 -0.115403  1.135244  -0.324425   \n",
       "\n",
       "       customer  isFraud  \n",
       "0         13802        1  \n",
       "1          1030        0  \n",
       "2          3572        0  \n",
       "3          5835        0  \n",
       "4          4713        0  \n",
       "...         ...      ...  \n",
       "69853      2342        1  \n",
       "69854      8999        1  \n",
       "69855     12402        0  \n",
       "69856     17568        0  \n",
       "69857     11355        0  \n",
       "\n",
       "[69858 rows x 12 columns]"
      ],
      "text/html": [
       "<div>\n",
       "<style scoped>\n",
       "    .dataframe tbody tr th:only-of-type {\n",
       "        vertical-align: middle;\n",
       "    }\n",
       "\n",
       "    .dataframe tbody tr th {\n",
       "        vertical-align: top;\n",
       "    }\n",
       "\n",
       "    .dataframe thead th {\n",
       "        text-align: right;\n",
       "    }\n",
       "</style>\n",
       "<table border=\"1\" class=\"dataframe\">\n",
       "  <thead>\n",
       "    <tr style=\"text-align: right;\">\n",
       "      <th></th>\n",
       "      <th>amount</th>\n",
       "      <th>oldbalanceOrg</th>\n",
       "      <th>newbalanceOrig</th>\n",
       "      <th>oldbalanceDest</th>\n",
       "      <th>newbalanceDest</th>\n",
       "      <th>_CASH_IN</th>\n",
       "      <th>_CASH_OUT</th>\n",
       "      <th>_DEBIT</th>\n",
       "      <th>_PAYMENT</th>\n",
       "      <th>_TRANSFER</th>\n",
       "      <th>customer</th>\n",
       "      <th>isFraud</th>\n",
       "    </tr>\n",
       "  </thead>\n",
       "  <tbody>\n",
       "    <tr>\n",
       "      <th>0</th>\n",
       "      <td>-0.455241</td>\n",
       "      <td>-0.328050</td>\n",
       "      <td>-0.333403</td>\n",
       "      <td>-0.347251</td>\n",
       "      <td>-0.399715</td>\n",
       "      <td>-0.465571</td>\n",
       "      <td>-0.618309</td>\n",
       "      <td>-0.115403</td>\n",
       "      <td>-0.880868</td>\n",
       "      <td>3.082377</td>\n",
       "      <td>13802</td>\n",
       "      <td>1</td>\n",
       "    </tr>\n",
       "    <tr>\n",
       "      <th>1</th>\n",
       "      <td>-0.433171</td>\n",
       "      <td>1.673388</td>\n",
       "      <td>1.646507</td>\n",
       "      <td>-0.299754</td>\n",
       "      <td>-0.366017</td>\n",
       "      <td>2.147900</td>\n",
       "      <td>-0.618309</td>\n",
       "      <td>-0.115403</td>\n",
       "      <td>-0.880868</td>\n",
       "      <td>-0.324425</td>\n",
       "      <td>1030</td>\n",
       "      <td>0</td>\n",
       "    </tr>\n",
       "    <tr>\n",
       "      <th>2</th>\n",
       "      <td>-0.474980</td>\n",
       "      <td>-0.309417</td>\n",
       "      <td>-0.312245</td>\n",
       "      <td>-0.347251</td>\n",
       "      <td>-0.399715</td>\n",
       "      <td>-0.465571</td>\n",
       "      <td>-0.618309</td>\n",
       "      <td>-0.115403</td>\n",
       "      <td>1.135244</td>\n",
       "      <td>-0.324425</td>\n",
       "      <td>3572</td>\n",
       "      <td>0</td>\n",
       "    </tr>\n",
       "    <tr>\n",
       "      <th>3</th>\n",
       "      <td>-0.388713</td>\n",
       "      <td>-0.332726</td>\n",
       "      <td>-0.333403</td>\n",
       "      <td>-0.347251</td>\n",
       "      <td>-0.399715</td>\n",
       "      <td>-0.465571</td>\n",
       "      <td>-0.618309</td>\n",
       "      <td>-0.115403</td>\n",
       "      <td>1.135244</td>\n",
       "      <td>-0.324425</td>\n",
       "      <td>5835</td>\n",
       "      <td>0</td>\n",
       "    </tr>\n",
       "    <tr>\n",
       "      <th>4</th>\n",
       "      <td>-0.469634</td>\n",
       "      <td>-0.332726</td>\n",
       "      <td>-0.333403</td>\n",
       "      <td>-0.347251</td>\n",
       "      <td>-0.399715</td>\n",
       "      <td>-0.465571</td>\n",
       "      <td>-0.618309</td>\n",
       "      <td>-0.115403</td>\n",
       "      <td>1.135244</td>\n",
       "      <td>-0.324425</td>\n",
       "      <td>4713</td>\n",
       "      <td>0</td>\n",
       "    </tr>\n",
       "    <tr>\n",
       "      <th>...</th>\n",
       "      <td>...</td>\n",
       "      <td>...</td>\n",
       "      <td>...</td>\n",
       "      <td>...</td>\n",
       "      <td>...</td>\n",
       "      <td>...</td>\n",
       "      <td>...</td>\n",
       "      <td>...</td>\n",
       "      <td>...</td>\n",
       "      <td>...</td>\n",
       "      <td>...</td>\n",
       "      <td>...</td>\n",
       "    </tr>\n",
       "    <tr>\n",
       "      <th>69853</th>\n",
       "      <td>-0.444370</td>\n",
       "      <td>-0.326458</td>\n",
       "      <td>-0.333403</td>\n",
       "      <td>-0.345862</td>\n",
       "      <td>-0.350505</td>\n",
       "      <td>-0.465571</td>\n",
       "      <td>1.617313</td>\n",
       "      <td>-0.115403</td>\n",
       "      <td>-0.880868</td>\n",
       "      <td>-0.324425</td>\n",
       "      <td>2342</td>\n",
       "      <td>1</td>\n",
       "    </tr>\n",
       "    <tr>\n",
       "      <th>69854</th>\n",
       "      <td>-0.455568</td>\n",
       "      <td>-0.328098</td>\n",
       "      <td>-0.333403</td>\n",
       "      <td>-0.347251</td>\n",
       "      <td>-0.399715</td>\n",
       "      <td>-0.465571</td>\n",
       "      <td>-0.618309</td>\n",
       "      <td>-0.115403</td>\n",
       "      <td>-0.880868</td>\n",
       "      <td>3.082377</td>\n",
       "      <td>8999</td>\n",
       "      <td>1</td>\n",
       "    </tr>\n",
       "    <tr>\n",
       "      <th>69855</th>\n",
       "      <td>-0.453397</td>\n",
       "      <td>-0.332726</td>\n",
       "      <td>-0.333403</td>\n",
       "      <td>-0.347251</td>\n",
       "      <td>-0.399715</td>\n",
       "      <td>-0.465571</td>\n",
       "      <td>-0.618309</td>\n",
       "      <td>-0.115403</td>\n",
       "      <td>1.135244</td>\n",
       "      <td>-0.324425</td>\n",
       "      <td>12402</td>\n",
       "      <td>0</td>\n",
       "    </tr>\n",
       "    <tr>\n",
       "      <th>69856</th>\n",
       "      <td>-0.442919</td>\n",
       "      <td>-0.088634</td>\n",
       "      <td>-0.099816</td>\n",
       "      <td>-0.347251</td>\n",
       "      <td>-0.399715</td>\n",
       "      <td>-0.465571</td>\n",
       "      <td>-0.618309</td>\n",
       "      <td>-0.115403</td>\n",
       "      <td>1.135244</td>\n",
       "      <td>-0.324425</td>\n",
       "      <td>17568</td>\n",
       "      <td>0</td>\n",
       "    </tr>\n",
       "    <tr>\n",
       "      <th>69857</th>\n",
       "      <td>-0.395403</td>\n",
       "      <td>-0.332726</td>\n",
       "      <td>-0.333403</td>\n",
       "      <td>-0.347251</td>\n",
       "      <td>-0.399715</td>\n",
       "      <td>-0.465571</td>\n",
       "      <td>-0.618309</td>\n",
       "      <td>-0.115403</td>\n",
       "      <td>1.135244</td>\n",
       "      <td>-0.324425</td>\n",
       "      <td>11355</td>\n",
       "      <td>0</td>\n",
       "    </tr>\n",
       "  </tbody>\n",
       "</table>\n",
       "<p>69858 rows × 12 columns</p>\n",
       "</div>"
      ]
     },
     "execution_count": 57,
     "metadata": {},
     "output_type": "execute_result"
    }
   ],
   "execution_count": 57
  },
  {
   "cell_type": "code",
   "id": "794fab68-62a0-477b-a7ad-0cb51023b17a",
   "metadata": {
    "ExecuteTime": {
     "end_time": "2024-11-13T18:57:43.843751Z",
     "start_time": "2024-11-13T18:57:43.831268Z"
    }
   },
   "source": [
    "train_df['isFraud'].value_counts()"
   ],
   "outputs": [
    {
     "data": {
      "text/plain": [
       "isFraud\n",
       "1    34929\n",
       "0    34929\n",
       "Name: count, dtype: int64"
      ]
     },
     "execution_count": 58,
     "metadata": {},
     "output_type": "execute_result"
    }
   ],
   "execution_count": 58
  },
  {
   "cell_type": "code",
   "id": "8b7883e4-ad16-4472-a9df-d99c9daff09a",
   "metadata": {
    "ExecuteTime": {
     "end_time": "2024-11-13T18:57:47.159490Z",
     "start_time": "2024-11-13T18:57:47.147112Z"
    }
   },
   "source": [
    "customers_train = train_df['customer'].copy()\n",
    "y_train = train_df['isFraud'].copy()\n",
    "X_train = train_df.drop(['customer', 'isFraud'], axis=1).copy()"
   ],
   "outputs": [],
   "execution_count": 59
  },
  {
   "cell_type": "markdown",
   "id": "515b5a3d-c392-4561-93f7-075f294497f4",
   "metadata": {},
   "source": [
    "# Modeling"
   ]
  },
  {
   "cell_type": "code",
   "id": "0bab4bcb-1fc8-458f-8e11-96bd45686f99",
   "metadata": {
    "ExecuteTime": {
     "end_time": "2024-11-13T18:57:53.021137Z",
     "start_time": "2024-11-13T18:57:52.909310Z"
    }
   },
   "source": [
    "# Inputs\n",
    "X_inputs = tf.keras.Input(shape=(10,), name='X_input')\n",
    "customer_inputs = tf.keras.Input(shape=(1,), name='customer_input')\n",
    "\n",
    "# X\n",
    "X_dense1 = tf.keras.layers.Dense(64, activation='relu', name='X_dense1')(X_inputs)\n",
    "X_dense2 = tf.keras.layers.Dense(64, activation='relu', name='X_dense2')(X_dense1)\n",
    "\n",
    "# customers\n",
    "customer_embedding = tf.keras.layers.Embedding(\n",
    "    input_dim=21018,\n",
    "    output_dim=64,\n",
    "    input_length=1,\n",
    "    name='customer_embedding'\n",
    ")(customer_inputs)\n",
    "customer_flatten = tf.keras.layers.Flatten(name='customer_flatten')(customer_embedding)\n",
    "\n",
    "# Concatenate\n",
    "concat = tf.keras.layers.concatenate([X_dense2, customer_flatten], name='concatenate')\n",
    "\n",
    "# Output\n",
    "outputs = tf.keras.layers.Dense(1, activation='sigmoid', name='output')(concat)\n",
    "\n",
    "\n",
    "model = tf.keras.Model(inputs=[X_inputs, customer_inputs], outputs=outputs)\n",
    "\n",
    "print(model.summary())\n",
    "#tf.keras.utils.plot_model(model, show_shapes=True, rankdir='TB')"
   ],
   "outputs": [
    {
     "name": "stderr",
     "output_type": "stream",
     "text": [
      "/Users/shivangisingh/Desktop/mobile-fraud-detection/.venv/lib/python3.11/site-packages/keras/src/layers/core/embedding.py:90: UserWarning: Argument `input_length` is deprecated. Just remove it.\n",
      "  warnings.warn(\n"
     ]
    },
    {
     "data": {
      "text/plain": [
       "\u001B[1mModel: \"functional\"\u001B[0m\n"
      ],
      "text/html": [
       "<pre style=\"white-space:pre;overflow-x:auto;line-height:normal;font-family:Menlo,'DejaVu Sans Mono',consolas,'Courier New',monospace\"><span style=\"font-weight: bold\">Model: \"functional\"</span>\n",
       "</pre>\n"
      ]
     },
     "metadata": {},
     "output_type": "display_data"
    },
    {
     "data": {
      "text/plain": [
       "┏━━━━━━━━━━━━━━━━━━━━━┳━━━━━━━━━━━━━━━━━━━┳━━━━━━━━━━━━┳━━━━━━━━━━━━━━━━━━━┓\n",
       "┃\u001B[1m \u001B[0m\u001B[1mLayer (type)       \u001B[0m\u001B[1m \u001B[0m┃\u001B[1m \u001B[0m\u001B[1mOutput Shape     \u001B[0m\u001B[1m \u001B[0m┃\u001B[1m \u001B[0m\u001B[1m   Param #\u001B[0m\u001B[1m \u001B[0m┃\u001B[1m \u001B[0m\u001B[1mConnected to     \u001B[0m\u001B[1m \u001B[0m┃\n",
       "┡━━━━━━━━━━━━━━━━━━━━━╇━━━━━━━━━━━━━━━━━━━╇━━━━━━━━━━━━╇━━━━━━━━━━━━━━━━━━━┩\n",
       "│ X_input             │ (\u001B[38;5;45mNone\u001B[0m, \u001B[38;5;34m10\u001B[0m)        │          \u001B[38;5;34m0\u001B[0m │ -                 │\n",
       "│ (\u001B[38;5;33mInputLayer\u001B[0m)        │                   │            │                   │\n",
       "├─────────────────────┼───────────────────┼────────────┼───────────────────┤\n",
       "│ customer_input      │ (\u001B[38;5;45mNone\u001B[0m, \u001B[38;5;34m1\u001B[0m)         │          \u001B[38;5;34m0\u001B[0m │ -                 │\n",
       "│ (\u001B[38;5;33mInputLayer\u001B[0m)        │                   │            │                   │\n",
       "├─────────────────────┼───────────────────┼────────────┼───────────────────┤\n",
       "│ X_dense1 (\u001B[38;5;33mDense\u001B[0m)    │ (\u001B[38;5;45mNone\u001B[0m, \u001B[38;5;34m64\u001B[0m)        │        \u001B[38;5;34m704\u001B[0m │ X_input[\u001B[38;5;34m0\u001B[0m][\u001B[38;5;34m0\u001B[0m]     │\n",
       "├─────────────────────┼───────────────────┼────────────┼───────────────────┤\n",
       "│ customer_embedding  │ (\u001B[38;5;45mNone\u001B[0m, \u001B[38;5;34m1\u001B[0m, \u001B[38;5;34m64\u001B[0m)     │  \u001B[38;5;34m1,345,152\u001B[0m │ customer_input[\u001B[38;5;34m0\u001B[0m… │\n",
       "│ (\u001B[38;5;33mEmbedding\u001B[0m)         │                   │            │                   │\n",
       "├─────────────────────┼───────────────────┼────────────┼───────────────────┤\n",
       "│ X_dense2 (\u001B[38;5;33mDense\u001B[0m)    │ (\u001B[38;5;45mNone\u001B[0m, \u001B[38;5;34m64\u001B[0m)        │      \u001B[38;5;34m4,160\u001B[0m │ X_dense1[\u001B[38;5;34m0\u001B[0m][\u001B[38;5;34m0\u001B[0m]    │\n",
       "├─────────────────────┼───────────────────┼────────────┼───────────────────┤\n",
       "│ customer_flatten    │ (\u001B[38;5;45mNone\u001B[0m, \u001B[38;5;34m64\u001B[0m)        │          \u001B[38;5;34m0\u001B[0m │ customer_embeddi… │\n",
       "│ (\u001B[38;5;33mFlatten\u001B[0m)           │                   │            │                   │\n",
       "├─────────────────────┼───────────────────┼────────────┼───────────────────┤\n",
       "│ concatenate         │ (\u001B[38;5;45mNone\u001B[0m, \u001B[38;5;34m128\u001B[0m)       │          \u001B[38;5;34m0\u001B[0m │ X_dense2[\u001B[38;5;34m0\u001B[0m][\u001B[38;5;34m0\u001B[0m],   │\n",
       "│ (\u001B[38;5;33mConcatenate\u001B[0m)       │                   │            │ customer_flatten… │\n",
       "├─────────────────────┼───────────────────┼────────────┼───────────────────┤\n",
       "│ output (\u001B[38;5;33mDense\u001B[0m)      │ (\u001B[38;5;45mNone\u001B[0m, \u001B[38;5;34m1\u001B[0m)         │        \u001B[38;5;34m129\u001B[0m │ concatenate[\u001B[38;5;34m0\u001B[0m][\u001B[38;5;34m0\u001B[0m] │\n",
       "└─────────────────────┴───────────────────┴────────────┴───────────────────┘\n"
      ],
      "text/html": [
       "<pre style=\"white-space:pre;overflow-x:auto;line-height:normal;font-family:Menlo,'DejaVu Sans Mono',consolas,'Courier New',monospace\">┏━━━━━━━━━━━━━━━━━━━━━┳━━━━━━━━━━━━━━━━━━━┳━━━━━━━━━━━━┳━━━━━━━━━━━━━━━━━━━┓\n",
       "┃<span style=\"font-weight: bold\"> Layer (type)        </span>┃<span style=\"font-weight: bold\"> Output Shape      </span>┃<span style=\"font-weight: bold\">    Param # </span>┃<span style=\"font-weight: bold\"> Connected to      </span>┃\n",
       "┡━━━━━━━━━━━━━━━━━━━━━╇━━━━━━━━━━━━━━━━━━━╇━━━━━━━━━━━━╇━━━━━━━━━━━━━━━━━━━┩\n",
       "│ X_input             │ (<span style=\"color: #00d7ff; text-decoration-color: #00d7ff\">None</span>, <span style=\"color: #00af00; text-decoration-color: #00af00\">10</span>)        │          <span style=\"color: #00af00; text-decoration-color: #00af00\">0</span> │ -                 │\n",
       "│ (<span style=\"color: #0087ff; text-decoration-color: #0087ff\">InputLayer</span>)        │                   │            │                   │\n",
       "├─────────────────────┼───────────────────┼────────────┼───────────────────┤\n",
       "│ customer_input      │ (<span style=\"color: #00d7ff; text-decoration-color: #00d7ff\">None</span>, <span style=\"color: #00af00; text-decoration-color: #00af00\">1</span>)         │          <span style=\"color: #00af00; text-decoration-color: #00af00\">0</span> │ -                 │\n",
       "│ (<span style=\"color: #0087ff; text-decoration-color: #0087ff\">InputLayer</span>)        │                   │            │                   │\n",
       "├─────────────────────┼───────────────────┼────────────┼───────────────────┤\n",
       "│ X_dense1 (<span style=\"color: #0087ff; text-decoration-color: #0087ff\">Dense</span>)    │ (<span style=\"color: #00d7ff; text-decoration-color: #00d7ff\">None</span>, <span style=\"color: #00af00; text-decoration-color: #00af00\">64</span>)        │        <span style=\"color: #00af00; text-decoration-color: #00af00\">704</span> │ X_input[<span style=\"color: #00af00; text-decoration-color: #00af00\">0</span>][<span style=\"color: #00af00; text-decoration-color: #00af00\">0</span>]     │\n",
       "├─────────────────────┼───────────────────┼────────────┼───────────────────┤\n",
       "│ customer_embedding  │ (<span style=\"color: #00d7ff; text-decoration-color: #00d7ff\">None</span>, <span style=\"color: #00af00; text-decoration-color: #00af00\">1</span>, <span style=\"color: #00af00; text-decoration-color: #00af00\">64</span>)     │  <span style=\"color: #00af00; text-decoration-color: #00af00\">1,345,152</span> │ customer_input[<span style=\"color: #00af00; text-decoration-color: #00af00\">0</span>… │\n",
       "│ (<span style=\"color: #0087ff; text-decoration-color: #0087ff\">Embedding</span>)         │                   │            │                   │\n",
       "├─────────────────────┼───────────────────┼────────────┼───────────────────┤\n",
       "│ X_dense2 (<span style=\"color: #0087ff; text-decoration-color: #0087ff\">Dense</span>)    │ (<span style=\"color: #00d7ff; text-decoration-color: #00d7ff\">None</span>, <span style=\"color: #00af00; text-decoration-color: #00af00\">64</span>)        │      <span style=\"color: #00af00; text-decoration-color: #00af00\">4,160</span> │ X_dense1[<span style=\"color: #00af00; text-decoration-color: #00af00\">0</span>][<span style=\"color: #00af00; text-decoration-color: #00af00\">0</span>]    │\n",
       "├─────────────────────┼───────────────────┼────────────┼───────────────────┤\n",
       "│ customer_flatten    │ (<span style=\"color: #00d7ff; text-decoration-color: #00d7ff\">None</span>, <span style=\"color: #00af00; text-decoration-color: #00af00\">64</span>)        │          <span style=\"color: #00af00; text-decoration-color: #00af00\">0</span> │ customer_embeddi… │\n",
       "│ (<span style=\"color: #0087ff; text-decoration-color: #0087ff\">Flatten</span>)           │                   │            │                   │\n",
       "├─────────────────────┼───────────────────┼────────────┼───────────────────┤\n",
       "│ concatenate         │ (<span style=\"color: #00d7ff; text-decoration-color: #00d7ff\">None</span>, <span style=\"color: #00af00; text-decoration-color: #00af00\">128</span>)       │          <span style=\"color: #00af00; text-decoration-color: #00af00\">0</span> │ X_dense2[<span style=\"color: #00af00; text-decoration-color: #00af00\">0</span>][<span style=\"color: #00af00; text-decoration-color: #00af00\">0</span>],   │\n",
       "│ (<span style=\"color: #0087ff; text-decoration-color: #0087ff\">Concatenate</span>)       │                   │            │ customer_flatten… │\n",
       "├─────────────────────┼───────────────────┼────────────┼───────────────────┤\n",
       "│ output (<span style=\"color: #0087ff; text-decoration-color: #0087ff\">Dense</span>)      │ (<span style=\"color: #00d7ff; text-decoration-color: #00d7ff\">None</span>, <span style=\"color: #00af00; text-decoration-color: #00af00\">1</span>)         │        <span style=\"color: #00af00; text-decoration-color: #00af00\">129</span> │ concatenate[<span style=\"color: #00af00; text-decoration-color: #00af00\">0</span>][<span style=\"color: #00af00; text-decoration-color: #00af00\">0</span>] │\n",
       "└─────────────────────┴───────────────────┴────────────┴───────────────────┘\n",
       "</pre>\n"
      ]
     },
     "metadata": {},
     "output_type": "display_data"
    },
    {
     "data": {
      "text/plain": [
       "\u001B[1m Total params: \u001B[0m\u001B[38;5;34m1,350,145\u001B[0m (5.15 MB)\n"
      ],
      "text/html": [
       "<pre style=\"white-space:pre;overflow-x:auto;line-height:normal;font-family:Menlo,'DejaVu Sans Mono',consolas,'Courier New',monospace\"><span style=\"font-weight: bold\"> Total params: </span><span style=\"color: #00af00; text-decoration-color: #00af00\">1,350,145</span> (5.15 MB)\n",
       "</pre>\n"
      ]
     },
     "metadata": {},
     "output_type": "display_data"
    },
    {
     "data": {
      "text/plain": [
       "\u001B[1m Trainable params: \u001B[0m\u001B[38;5;34m1,350,145\u001B[0m (5.15 MB)\n"
      ],
      "text/html": [
       "<pre style=\"white-space:pre;overflow-x:auto;line-height:normal;font-family:Menlo,'DejaVu Sans Mono',consolas,'Courier New',monospace\"><span style=\"font-weight: bold\"> Trainable params: </span><span style=\"color: #00af00; text-decoration-color: #00af00\">1,350,145</span> (5.15 MB)\n",
       "</pre>\n"
      ]
     },
     "metadata": {},
     "output_type": "display_data"
    },
    {
     "data": {
      "text/plain": [
       "\u001B[1m Non-trainable params: \u001B[0m\u001B[38;5;34m0\u001B[0m (0.00 B)\n"
      ],
      "text/html": [
       "<pre style=\"white-space:pre;overflow-x:auto;line-height:normal;font-family:Menlo,'DejaVu Sans Mono',consolas,'Courier New',monospace\"><span style=\"font-weight: bold\"> Non-trainable params: </span><span style=\"color: #00af00; text-decoration-color: #00af00\">0</span> (0.00 B)\n",
       "</pre>\n"
      ]
     },
     "metadata": {},
     "output_type": "display_data"
    },
    {
     "name": "stdout",
     "output_type": "stream",
     "text": [
      "None\n"
     ]
    }
   ],
   "execution_count": 60
  },
  {
   "cell_type": "code",
   "id": "e71944be-777e-4846-889c-981100b5580d",
   "metadata": {
    "ExecuteTime": {
     "end_time": "2024-11-13T18:58:02.658734Z",
     "start_time": "2024-11-13T18:58:02.606218Z"
    }
   },
   "source": [
    "model.compile(\n",
    "    optimizer='adam',\n",
    "    loss='binary_crossentropy',\n",
    "    metrics=[\n",
    "        'accuracy',\n",
    "        tf.keras.metrics.AUC(name='auc')\n",
    "    ]\n",
    ")"
   ],
   "outputs": [],
   "execution_count": 61
  },
  {
   "cell_type": "markdown",
   "id": "8f88e90c-b336-4287-9033-f760bbf7de45",
   "metadata": {},
   "source": [
    "# Training"
   ]
  },
  {
   "cell_type": "code",
   "id": "b6b6ccca-c19d-4c73-8a30-6eaf0995c278",
   "metadata": {
    "ExecuteTime": {
     "end_time": "2024-11-13T18:59:04.372816Z",
     "start_time": "2024-11-13T18:58:09.725526Z"
    }
   },
   "source": [
    "history = model.fit(\n",
    "    [X_train, customers_train],\n",
    "    y_train,\n",
    "    validation_split=0.2,\n",
    "    class_weight={\n",
    "        0: 0.25,\n",
    "        1: 4.0\n",
    "    },\n",
    "    batch_size=32,\n",
    "    epochs=10,\n",
    "    callbacks=[\n",
    "        tf.keras.callbacks.EarlyStopping(\n",
    "            monitor='val_loss',\n",
    "            patience=2,\n",
    "            restore_best_weights=True\n",
    "        )\n",
    "    ]\n",
    ")"
   ],
   "outputs": [
    {
     "name": "stdout",
     "output_type": "stream",
     "text": [
      "Epoch 1/10\n",
      "\u001B[1m1747/1747\u001B[0m \u001B[32m━━━━━━━━━━━━━━━━━━━━\u001B[0m\u001B[37m\u001B[0m \u001B[1m11s\u001B[0m 6ms/step - accuracy: 0.8390 - auc: 0.9587 - loss: 0.1851 - val_accuracy: 0.9979 - val_auc: 0.9991 - val_loss: 0.0114\n",
      "Epoch 2/10\n",
      "\u001B[1m1747/1747\u001B[0m \u001B[32m━━━━━━━━━━━━━━━━━━━━\u001B[0m\u001B[37m\u001B[0m \u001B[1m11s\u001B[0m 6ms/step - accuracy: 0.9982 - auc: 0.9990 - loss: 0.0033 - val_accuracy: 0.9985 - val_auc: 0.9998 - val_loss: 0.0067\n",
      "Epoch 3/10\n",
      "\u001B[1m1747/1747\u001B[0m \u001B[32m━━━━━━━━━━━━━━━━━━━━\u001B[0m\u001B[37m\u001B[0m \u001B[1m10s\u001B[0m 6ms/step - accuracy: 0.9983 - auc: 0.9989 - loss: 0.0033 - val_accuracy: 0.9985 - val_auc: 0.9996 - val_loss: 0.0066\n",
      "Epoch 4/10\n",
      "\u001B[1m1747/1747\u001B[0m \u001B[32m━━━━━━━━━━━━━━━━━━━━\u001B[0m\u001B[37m\u001B[0m \u001B[1m11s\u001B[0m 7ms/step - accuracy: 0.9983 - auc: 0.9988 - loss: 0.0034 - val_accuracy: 0.9986 - val_auc: 0.9994 - val_loss: 0.0091\n",
      "Epoch 5/10\n",
      "\u001B[1m1747/1747\u001B[0m \u001B[32m━━━━━━━━━━━━━━━━━━━━\u001B[0m\u001B[37m\u001B[0m \u001B[1m11s\u001B[0m 6ms/step - accuracy: 0.9985 - auc: 0.9992 - loss: 0.0026 - val_accuracy: 0.9986 - val_auc: 0.9994 - val_loss: 0.0086\n"
     ]
    }
   ],
   "execution_count": 62
  },
  {
   "cell_type": "markdown",
   "id": "65c27e8e-ca8f-40c1-ae91-9d29b104628d",
   "metadata": {},
   "source": [
    "### Saving the Model"
   ]
  },
  {
   "cell_type": "code",
   "id": "8e928507-e312-44bb-b350-23861144c59d",
   "metadata": {
    "ExecuteTime": {
     "end_time": "2024-11-13T18:59:33.101811Z",
     "start_time": "2024-11-13T18:59:32.993472Z"
    }
   },
   "source": [
    "# Save the entire model to a HDF5 file\n",
    "model.save('my_model.keras')"
   ],
   "outputs": [],
   "execution_count": 63
  },
  {
   "cell_type": "markdown",
   "id": "8c8215ee-b592-4614-a889-3c59572c25b4",
   "metadata": {},
   "source": [
    "# Result"
   ]
  },
  {
   "cell_type": "code",
   "id": "9cb1c8f8-b67a-48e0-bcc8-f836f23a3500",
   "metadata": {
    "ExecuteTime": {
     "end_time": "2024-11-13T18:59:40.824884Z",
     "start_time": "2024-11-13T18:59:40.536738Z"
    }
   },
   "source": [
    "results = model.evaluate([X_test, customers_test], y_test, verbose=0)\n",
    "print(\"Test Accuracy: {:.3f}%\".format(results[1] * 100))\n",
    "print(\"     Test AUC: {:.3f}\".format(results[2] * 100))"
   ],
   "outputs": [
    {
     "name": "stdout",
     "output_type": "stream",
     "text": [
      "Test Accuracy: 99.687%\n",
      "     Test AUC: 78.935\n"
     ]
    }
   ],
   "execution_count": 64
  },
  {
   "cell_type": "code",
   "id": "cc5d5229-95b8-4945-9063-3dd7e5bfe41a",
   "metadata": {
    "ExecuteTime": {
     "end_time": "2024-11-13T18:59:52.561864Z",
     "start_time": "2024-11-13T18:59:52.047033Z"
    }
   },
   "source": [
    "y_true = np.array(y_test)\n",
    "\n",
    "y_pred = np.squeeze(model.predict([X_test, customers_test]))\n",
    "y_pred = (y_pred >= 0.5).astype(int)\n",
    "\n",
    "\n",
    "cm = confusion_matrix(y_true, y_pred)\n",
    "clr = classification_report(y_true, y_pred, target_names=[\"Not Fraud\", \"Fraud\"])"
   ],
   "outputs": [
    {
     "name": "stdout",
     "output_type": "stream",
     "text": [
      "\u001B[1m469/469\u001B[0m \u001B[32m━━━━━━━━━━━━━━━━━━━━\u001B[0m\u001B[37m\u001B[0m \u001B[1m0s\u001B[0m 605us/step\n"
     ]
    }
   ],
   "execution_count": 65
  },
  {
   "cell_type": "code",
   "id": "34d8d02f-1afe-4454-8b33-e6cb84a693aa",
   "metadata": {
    "ExecuteTime": {
     "end_time": "2024-11-13T19:00:00.458653Z",
     "start_time": "2024-11-13T18:59:59.843215Z"
    }
   },
   "source": [
    "plt.figure(figsize=(8, 8))\n",
    "sns.heatmap(cm, annot=True, vmin=0, fmt='g', cbar=False, cmap='Blues')\n",
    "plt.xticks(np.arange(2) + 0.5, [\"Not Fraud\", \"Fraud\"])\n",
    "plt.yticks(np.arange(2) + 0.5, [\"Not Fraud\", \"Fraud\"])\n",
    "plt.xlabel(\"Predicted\")\n",
    "plt.ylabel(\"Actual\")\n",
    "plt.title(\"Confusion Matrix\")\n",
    "plt.show()"
   ],
   "outputs": [
    {
     "data": {
      "text/plain": [
       "<Figure size 800x800 with 1 Axes>"
      ],
      "image/png": "[encoded data removed]"
     },
     "metadata": {},
     "output_type": "display_data"
    }
   ],
   "execution_count": 66
  },
  {
   "cell_type": "code",
   "id": "ad8371e2-f057-4e5c-8c82-2b8a0b656d46",
   "metadata": {
    "ExecuteTime": {
     "end_time": "2024-11-13T19:00:05.161700Z",
     "start_time": "2024-11-13T19:00:05.155451Z"
    }
   },
   "source": [
    "print(\"Classification Report:\\n----------------------\\n\", clr)"
   ],
   "outputs": [
    {
     "name": "stdout",
     "output_type": "stream",
     "text": [
      "Classification Report:\n",
      "----------------------\n",
      "               precision    recall  f1-score   support\n",
      "\n",
      "   Not Fraud       1.00      1.00      1.00     14971\n",
      "       Fraud       0.18      0.17      0.18        29\n",
      "\n",
      "    accuracy                           1.00     15000\n",
      "   macro avg       0.59      0.59      0.59     15000\n",
      "weighted avg       1.00      1.00      1.00     15000\n",
      "\n"
     ]
    }
   ],
   "execution_count": 67
  },
  {
   "cell_type": "code",
   "execution_count": null,
   "id": "3bfc0d92-dfb2-4396-9d78-f4dd0f4aa144",
   "metadata": {},
   "outputs": [],
   "source": []
  }
 ],
 "metadata": {
  "kernelspec": {
   "display_name": "Python 3 (ipykernel)",
   "language": "python",
   "name": "python3"
  },
  "language_info": {
   "codemirror_mode": {
    "name": "ipython",
    "version": 3
   },
   "file_extension": ".py",
   "mimetype": "text/x-python",
   "name": "python",
   "nbconvert_exporter": "python",
   "pygments_lexer": "ipython3",
   "version": "3.12.4"
  }
 },
 "nbformat": 4,
 "nbformat_minor": 5
}
